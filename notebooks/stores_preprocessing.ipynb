{
 "cells": [
  {
   "cell_type": "markdown",
   "id": "4cf04d8d-0008-4b58-91ae-d894c9fb2456",
   "metadata": {},
   "source": [
    "## Datensatz für Filialen\n",
    "\n",
    "In diesem Notebook werfen wir einen ersten Blick auf die Daten in `store.csv` und führen dort, wo wir es für notwending halten Vorverarbeitung durch."
   ]
  },
  {
   "cell_type": "code",
   "execution_count": 1,
   "id": "e15bc5af-585e-41f2-9d43-92896340868a",
   "metadata": {},
   "outputs": [],
   "source": [
    "import numpy as np\n",
    "import pandas as pd\n",
    "import matplotlib.pyplot as plt\n",
    "import seaborn as sns\n",
    "%matplotlib inline"
   ]
  },
  {
   "cell_type": "markdown",
   "id": "1dc83c32-756b-414a-a2a4-cba981521596",
   "metadata": {},
   "source": [
    "Lass uns zunächst die Daten aus der Datei `store.csv` anschauen:"
   ]
  },
  {
   "cell_type": "code",
   "execution_count": 2,
   "id": "4a10cb01-3b5d-4cd1-9b39-449d5992b7d2",
   "metadata": {},
   "outputs": [
    {
     "data": {
      "text/html": [
       "<div>\n",
       "<style scoped>\n",
       "    .dataframe tbody tr th:only-of-type {\n",
       "        vertical-align: middle;\n",
       "    }\n",
       "\n",
       "    .dataframe tbody tr th {\n",
       "        vertical-align: top;\n",
       "    }\n",
       "\n",
       "    .dataframe thead th {\n",
       "        text-align: right;\n",
       "    }\n",
       "</style>\n",
       "<table border=\"1\" class=\"dataframe\">\n",
       "  <thead>\n",
       "    <tr style=\"text-align: right;\">\n",
       "      <th></th>\n",
       "      <th>Store</th>\n",
       "      <th>StoreType</th>\n",
       "      <th>Assortment</th>\n",
       "      <th>CompetitionDistance</th>\n",
       "      <th>CompetitionOpenSinceMonth</th>\n",
       "      <th>CompetitionOpenSinceYear</th>\n",
       "      <th>Promo2</th>\n",
       "      <th>Promo2SinceWeek</th>\n",
       "      <th>Promo2SinceYear</th>\n",
       "      <th>PromoInterval</th>\n",
       "    </tr>\n",
       "  </thead>\n",
       "  <tbody>\n",
       "    <tr>\n",
       "      <th>0</th>\n",
       "      <td>1</td>\n",
       "      <td>c</td>\n",
       "      <td>a</td>\n",
       "      <td>1270.0</td>\n",
       "      <td>9.0</td>\n",
       "      <td>2008.0</td>\n",
       "      <td>0</td>\n",
       "      <td>NaN</td>\n",
       "      <td>NaN</td>\n",
       "      <td>NaN</td>\n",
       "    </tr>\n",
       "    <tr>\n",
       "      <th>1</th>\n",
       "      <td>2</td>\n",
       "      <td>a</td>\n",
       "      <td>a</td>\n",
       "      <td>570.0</td>\n",
       "      <td>11.0</td>\n",
       "      <td>2007.0</td>\n",
       "      <td>1</td>\n",
       "      <td>13.0</td>\n",
       "      <td>2010.0</td>\n",
       "      <td>Jan,Apr,Jul,Oct</td>\n",
       "    </tr>\n",
       "    <tr>\n",
       "      <th>2</th>\n",
       "      <td>3</td>\n",
       "      <td>a</td>\n",
       "      <td>a</td>\n",
       "      <td>14130.0</td>\n",
       "      <td>12.0</td>\n",
       "      <td>2006.0</td>\n",
       "      <td>1</td>\n",
       "      <td>14.0</td>\n",
       "      <td>2011.0</td>\n",
       "      <td>Jan,Apr,Jul,Oct</td>\n",
       "    </tr>\n",
       "    <tr>\n",
       "      <th>3</th>\n",
       "      <td>4</td>\n",
       "      <td>c</td>\n",
       "      <td>c</td>\n",
       "      <td>620.0</td>\n",
       "      <td>9.0</td>\n",
       "      <td>2009.0</td>\n",
       "      <td>0</td>\n",
       "      <td>NaN</td>\n",
       "      <td>NaN</td>\n",
       "      <td>NaN</td>\n",
       "    </tr>\n",
       "    <tr>\n",
       "      <th>4</th>\n",
       "      <td>5</td>\n",
       "      <td>a</td>\n",
       "      <td>a</td>\n",
       "      <td>29910.0</td>\n",
       "      <td>4.0</td>\n",
       "      <td>2015.0</td>\n",
       "      <td>0</td>\n",
       "      <td>NaN</td>\n",
       "      <td>NaN</td>\n",
       "      <td>NaN</td>\n",
       "    </tr>\n",
       "  </tbody>\n",
       "</table>\n",
       "</div>"
      ],
      "text/plain": [
       "   Store StoreType Assortment  CompetitionDistance  CompetitionOpenSinceMonth  \\\n",
       "0      1         c          a               1270.0                        9.0   \n",
       "1      2         a          a                570.0                       11.0   \n",
       "2      3         a          a              14130.0                       12.0   \n",
       "3      4         c          c                620.0                        9.0   \n",
       "4      5         a          a              29910.0                        4.0   \n",
       "\n",
       "   CompetitionOpenSinceYear  Promo2  Promo2SinceWeek  Promo2SinceYear  \\\n",
       "0                    2008.0       0              NaN              NaN   \n",
       "1                    2007.0       1             13.0           2010.0   \n",
       "2                    2006.0       1             14.0           2011.0   \n",
       "3                    2009.0       0              NaN              NaN   \n",
       "4                    2015.0       0              NaN              NaN   \n",
       "\n",
       "     PromoInterval  \n",
       "0              NaN  \n",
       "1  Jan,Apr,Jul,Oct  \n",
       "2  Jan,Apr,Jul,Oct  \n",
       "3              NaN  \n",
       "4              NaN  "
      ]
     },
     "execution_count": 2,
     "metadata": {},
     "output_type": "execute_result"
    }
   ],
   "source": [
    "stores_df = pd.read_csv('../data/store.csv')\n",
    "stores_df.head()"
   ]
  },
  {
   "cell_type": "code",
   "execution_count": 3,
   "id": "016fbec2-8f17-4f04-94ff-d82cc9fd1ef4",
   "metadata": {},
   "outputs": [
    {
     "name": "stdout",
     "output_type": "stream",
     "text": [
      "<class 'pandas.core.frame.DataFrame'>\n",
      "RangeIndex: 1115 entries, 0 to 1114\n",
      "Data columns (total 10 columns):\n",
      " #   Column                     Non-Null Count  Dtype  \n",
      "---  ------                     --------------  -----  \n",
      " 0   Store                      1115 non-null   int64  \n",
      " 1   StoreType                  1115 non-null   object \n",
      " 2   Assortment                 1115 non-null   object \n",
      " 3   CompetitionDistance        1112 non-null   float64\n",
      " 4   CompetitionOpenSinceMonth  761 non-null    float64\n",
      " 5   CompetitionOpenSinceYear   761 non-null    float64\n",
      " 6   Promo2                     1115 non-null   int64  \n",
      " 7   Promo2SinceWeek            571 non-null    float64\n",
      " 8   Promo2SinceYear            571 non-null    float64\n",
      " 9   PromoInterval              571 non-null    object \n",
      "dtypes: float64(5), int64(2), object(3)\n",
      "memory usage: 87.2+ KB\n"
     ]
    }
   ],
   "source": [
    "stores_df.info()"
   ]
  },
  {
   "cell_type": "markdown",
   "id": "561aa347-46f7-4a32-8a4f-6bdefb6aa761",
   "metadata": {},
   "source": [
    "Bedeutung der Variablen:  \n",
    "- Store: Eine eindeutige ID für jede Filiale.\n",
    "- StoreType: Unterscheidet zwischen vier verschiedenen Ladenmodellen (a, b, c, d).\n",
    "- Assortment: Beschreibt einen Sortimentsgrad (a = Basis, b = Extra, c = Erweitert).\n",
    "- CompetitionDistance: Ist die Entfernung in Metern zum nächstgelegenen Konkurrenzgeschäft.\n",
    "- CompetitionOpenSince[Month/Year]: Gibt das ungefähre Jahr und den Monat der Eröffnung des nächsten Konkurrenten an.\n",
    "- Promo2: Ist eine fortlaufende und aufeinanderfolgende Werbeaktion für einige Geschäfte (0 = Geschäft nimmt nicht teil, 1 = Geschäft nimmt teil).\n",
    "- Promo2Since[Week/Year]: Beschreibt das Jahr und die Kalenderwoche, in der das Geschäft an Promo2 teilgenommen hat\n",
    "- PromoInterval: Beschreibt die aufeinanderfolgenden Intervalle, in denen Promo2 gestartet wird, indem die Monate benannt werden, in denen die Werbeaktionen neu gestartet werden. Zum Beispiel bedeutet \"Feb, May, Aug, Nov\", dass jede Runde im Februar, Mai, August, November eines jeden Jahres für diesen Laden startet."
   ]
  },
  {
   "cell_type": "markdown",
   "id": "7f7c65c6-0382-4abe-b027-514ca31db159",
   "metadata": {},
   "source": [
    "Die Variablen `CompetitionDistance`, `CompetitionOpenSince[Month/Year]`, `CompetitionOpenSince[Month/Year]`  \n",
    "`Promo2Since[Week/Year]`, und `PromoInterval` haben fehlende Werte."
   ]
  },
  {
   "cell_type": "markdown",
   "id": "43e849a3-e43e-4afe-8aea-58eb6eee01ed",
   "metadata": {},
   "source": [
    "#### Datenvorverarbeitung\n",
    "Zunächst schauen wir uns die deskriptive Statistiken für diesen Datensatz an:"
   ]
  },
  {
   "cell_type": "code",
   "execution_count": 4,
   "id": "7f306233-e207-4b30-8ff0-c71c029c203a",
   "metadata": {},
   "outputs": [
    {
     "data": {
      "text/html": [
       "<div>\n",
       "<style scoped>\n",
       "    .dataframe tbody tr th:only-of-type {\n",
       "        vertical-align: middle;\n",
       "    }\n",
       "\n",
       "    .dataframe tbody tr th {\n",
       "        vertical-align: top;\n",
       "    }\n",
       "\n",
       "    .dataframe thead th {\n",
       "        text-align: right;\n",
       "    }\n",
       "</style>\n",
       "<table border=\"1\" class=\"dataframe\">\n",
       "  <thead>\n",
       "    <tr style=\"text-align: right;\">\n",
       "      <th></th>\n",
       "      <th>CompetitionDistance</th>\n",
       "      <th>CompetitionOpenSinceMonth</th>\n",
       "      <th>CompetitionOpenSinceYear</th>\n",
       "      <th>Promo2</th>\n",
       "      <th>Promo2SinceWeek</th>\n",
       "      <th>Promo2SinceYear</th>\n",
       "    </tr>\n",
       "  </thead>\n",
       "  <tbody>\n",
       "    <tr>\n",
       "      <th>count</th>\n",
       "      <td>1112.000000</td>\n",
       "      <td>761.000000</td>\n",
       "      <td>761.000000</td>\n",
       "      <td>1115.000000</td>\n",
       "      <td>571.000000</td>\n",
       "      <td>571.000000</td>\n",
       "    </tr>\n",
       "    <tr>\n",
       "      <th>mean</th>\n",
       "      <td>5404.901079</td>\n",
       "      <td>7.224704</td>\n",
       "      <td>2008.668857</td>\n",
       "      <td>0.512108</td>\n",
       "      <td>23.595447</td>\n",
       "      <td>2011.763573</td>\n",
       "    </tr>\n",
       "    <tr>\n",
       "      <th>std</th>\n",
       "      <td>7663.174720</td>\n",
       "      <td>3.212348</td>\n",
       "      <td>6.195983</td>\n",
       "      <td>0.500078</td>\n",
       "      <td>14.141984</td>\n",
       "      <td>1.674935</td>\n",
       "    </tr>\n",
       "    <tr>\n",
       "      <th>min</th>\n",
       "      <td>20.000000</td>\n",
       "      <td>1.000000</td>\n",
       "      <td>1900.000000</td>\n",
       "      <td>0.000000</td>\n",
       "      <td>1.000000</td>\n",
       "      <td>2009.000000</td>\n",
       "    </tr>\n",
       "    <tr>\n",
       "      <th>25%</th>\n",
       "      <td>717.500000</td>\n",
       "      <td>4.000000</td>\n",
       "      <td>2006.000000</td>\n",
       "      <td>0.000000</td>\n",
       "      <td>13.000000</td>\n",
       "      <td>2011.000000</td>\n",
       "    </tr>\n",
       "    <tr>\n",
       "      <th>50%</th>\n",
       "      <td>2325.000000</td>\n",
       "      <td>8.000000</td>\n",
       "      <td>2010.000000</td>\n",
       "      <td>1.000000</td>\n",
       "      <td>22.000000</td>\n",
       "      <td>2012.000000</td>\n",
       "    </tr>\n",
       "    <tr>\n",
       "      <th>75%</th>\n",
       "      <td>6882.500000</td>\n",
       "      <td>10.000000</td>\n",
       "      <td>2013.000000</td>\n",
       "      <td>1.000000</td>\n",
       "      <td>37.000000</td>\n",
       "      <td>2013.000000</td>\n",
       "    </tr>\n",
       "    <tr>\n",
       "      <th>max</th>\n",
       "      <td>75860.000000</td>\n",
       "      <td>12.000000</td>\n",
       "      <td>2015.000000</td>\n",
       "      <td>1.000000</td>\n",
       "      <td>50.000000</td>\n",
       "      <td>2015.000000</td>\n",
       "    </tr>\n",
       "  </tbody>\n",
       "</table>\n",
       "</div>"
      ],
      "text/plain": [
       "       CompetitionDistance  CompetitionOpenSinceMonth  \\\n",
       "count          1112.000000                 761.000000   \n",
       "mean           5404.901079                   7.224704   \n",
       "std            7663.174720                   3.212348   \n",
       "min              20.000000                   1.000000   \n",
       "25%             717.500000                   4.000000   \n",
       "50%            2325.000000                   8.000000   \n",
       "75%            6882.500000                  10.000000   \n",
       "max           75860.000000                  12.000000   \n",
       "\n",
       "       CompetitionOpenSinceYear       Promo2  Promo2SinceWeek  Promo2SinceYear  \n",
       "count                761.000000  1115.000000       571.000000       571.000000  \n",
       "mean                2008.668857     0.512108        23.595447      2011.763573  \n",
       "std                    6.195983     0.500078        14.141984         1.674935  \n",
       "min                 1900.000000     0.000000         1.000000      2009.000000  \n",
       "25%                 2006.000000     0.000000        13.000000      2011.000000  \n",
       "50%                 2010.000000     1.000000        22.000000      2012.000000  \n",
       "75%                 2013.000000     1.000000        37.000000      2013.000000  \n",
       "max                 2015.000000     1.000000        50.000000      2015.000000  "
      ]
     },
     "execution_count": 4,
     "metadata": {},
     "output_type": "execute_result"
    }
   ],
   "source": [
    "stores_df.drop('Store', axis=1).describe()"
   ]
  },
  {
   "cell_type": "markdown",
   "id": "a160349d-b4fa-457d-bdef-e73be75a0687",
   "metadata": {},
   "source": [
    "##### CompetitionDistance  \n",
    "Wie sehen die Filialen aus, für welche es keinen Wert für die Variable `CompetitionDistance` gibt?"
   ]
  },
  {
   "cell_type": "code",
   "execution_count": 5,
   "id": "c1ecd0c4-a732-4ecb-b810-6d029ef2d5bb",
   "metadata": {},
   "outputs": [
    {
     "data": {
      "text/html": [
       "<div>\n",
       "<style scoped>\n",
       "    .dataframe tbody tr th:only-of-type {\n",
       "        vertical-align: middle;\n",
       "    }\n",
       "\n",
       "    .dataframe tbody tr th {\n",
       "        vertical-align: top;\n",
       "    }\n",
       "\n",
       "    .dataframe thead th {\n",
       "        text-align: right;\n",
       "    }\n",
       "</style>\n",
       "<table border=\"1\" class=\"dataframe\">\n",
       "  <thead>\n",
       "    <tr style=\"text-align: right;\">\n",
       "      <th></th>\n",
       "      <th>Store</th>\n",
       "      <th>StoreType</th>\n",
       "      <th>Assortment</th>\n",
       "      <th>CompetitionDistance</th>\n",
       "      <th>CompetitionOpenSinceMonth</th>\n",
       "      <th>CompetitionOpenSinceYear</th>\n",
       "      <th>Promo2</th>\n",
       "      <th>Promo2SinceWeek</th>\n",
       "      <th>Promo2SinceYear</th>\n",
       "      <th>PromoInterval</th>\n",
       "    </tr>\n",
       "  </thead>\n",
       "  <tbody>\n",
       "    <tr>\n",
       "      <th>290</th>\n",
       "      <td>291</td>\n",
       "      <td>d</td>\n",
       "      <td>a</td>\n",
       "      <td>NaN</td>\n",
       "      <td>NaN</td>\n",
       "      <td>NaN</td>\n",
       "      <td>0</td>\n",
       "      <td>NaN</td>\n",
       "      <td>NaN</td>\n",
       "      <td>NaN</td>\n",
       "    </tr>\n",
       "    <tr>\n",
       "      <th>621</th>\n",
       "      <td>622</td>\n",
       "      <td>a</td>\n",
       "      <td>c</td>\n",
       "      <td>NaN</td>\n",
       "      <td>NaN</td>\n",
       "      <td>NaN</td>\n",
       "      <td>0</td>\n",
       "      <td>NaN</td>\n",
       "      <td>NaN</td>\n",
       "      <td>NaN</td>\n",
       "    </tr>\n",
       "    <tr>\n",
       "      <th>878</th>\n",
       "      <td>879</td>\n",
       "      <td>d</td>\n",
       "      <td>a</td>\n",
       "      <td>NaN</td>\n",
       "      <td>NaN</td>\n",
       "      <td>NaN</td>\n",
       "      <td>1</td>\n",
       "      <td>5.0</td>\n",
       "      <td>2013.0</td>\n",
       "      <td>Feb,May,Aug,Nov</td>\n",
       "    </tr>\n",
       "  </tbody>\n",
       "</table>\n",
       "</div>"
      ],
      "text/plain": [
       "     Store StoreType Assortment  CompetitionDistance  \\\n",
       "290    291         d          a                  NaN   \n",
       "621    622         a          c                  NaN   \n",
       "878    879         d          a                  NaN   \n",
       "\n",
       "     CompetitionOpenSinceMonth  CompetitionOpenSinceYear  Promo2  \\\n",
       "290                        NaN                       NaN       0   \n",
       "621                        NaN                       NaN       0   \n",
       "878                        NaN                       NaN       1   \n",
       "\n",
       "     Promo2SinceWeek  Promo2SinceYear    PromoInterval  \n",
       "290              NaN              NaN              NaN  \n",
       "621              NaN              NaN              NaN  \n",
       "878              5.0           2013.0  Feb,May,Aug,Nov  "
      ]
     },
     "execution_count": 5,
     "metadata": {},
     "output_type": "execute_result"
    }
   ],
   "source": [
    "stores_df[stores_df['CompetitionDistance'].isnull()]"
   ]
  },
  {
   "cell_type": "markdown",
   "id": "8877247b-6c78-4bbf-82b7-0acab05de131",
   "metadata": {},
   "source": [
    "Wie sieht die Verteilung von CompetitionDistance aus?"
   ]
  },
  {
   "cell_type": "code",
   "execution_count": 6,
   "id": "6da4c43e-6bde-436e-a383-d56ebf7d726a",
   "metadata": {},
   "outputs": [
    {
     "data": {
      "image/png": "[encoded data removed]",
      "text/plain": [
       "<Figure size 640x480 with 1 Axes>"
      ]
     },
     "metadata": {},
     "output_type": "display_data"
    }
   ],
   "source": [
    "sns.histplot(stores_df['CompetitionDistance'], kde=True).set(title=\"Verteilung von CompetitionDistance\");"
   ]
  },
  {
   "cell_type": "markdown",
   "id": "66fde4d5-c9dd-413d-975e-991920b40ffc",
   "metadata": {},
   "source": [
    "Gibt es einen Zusammenhang zwischen der Entfernung der Wettbewerber und dem FilialTyp oder dem Sortiment?"
   ]
  },
  {
   "cell_type": "code",
   "execution_count": 7,
   "id": "1630a73e-8fe3-492e-a5f7-39f77b03a79e",
   "metadata": {},
   "outputs": [
    {
     "data": {
      "image/png": "[encoded data removed]",
      "text/plain": [
       "<Figure size 900x300 with 3 Axes>"
      ]
     },
     "metadata": {},
     "output_type": "display_data"
    }
   ],
   "source": [
    "g=sns.FacetGrid(stores_df, col='Assortment', margin_titles=True, hue='StoreType')\n",
    "g.map(sns.violinplot, 'StoreType', 'CompetitionDistance', order=['a', 'b', 'c', 'd'])\n",
    "g.fig.suptitle('CompetitionDistance im Verhältnis zum StoreType und Assortment.')\n",
    "plt.tight_layout();"
   ]
  },
  {
   "cell_type": "markdown",
   "id": "770f5306-cae7-4619-9429-58271443ffe0",
   "metadata": {},
   "source": [
    "Da die Verteilung von CompetitionDistance schief ist, werde ich ihre fehlenden Werte durch den Median in den entsprechenden (Assortment, StoreType)-Gruppen ersetzen in der Hoffnung, so wenig Verzerrung wie möglich einzuführen:"
   ]
  },
  {
   "cell_type": "code",
   "execution_count": 8,
   "id": "d71b8b22-2a85-44c1-95f1-52e3f290c6e4",
   "metadata": {},
   "outputs": [
    {
     "data": {
      "text/plain": [
       "0"
      ]
     },
     "execution_count": 8,
     "metadata": {},
     "output_type": "execute_result"
    }
   ],
   "source": [
    "stores_by_type_assort = stores_df.groupby(['StoreType', 'Assortment'])\n",
    "\n",
    "stores_df['CompetitionDistance'] = stores_df['CompetitionDistance'].fillna(\n",
    "    stores_by_type_assort['CompetitionDistance'].transform('median'))\n",
    "\n",
    "stores_df['CompetitionDistance'].isna().sum()"
   ]
  },
  {
   "cell_type": "markdown",
   "id": "af441efc-d4da-499c-9b16-bd47dffd57bb",
   "metadata": {},
   "source": [
    "##### CompetitionOpenSince[Month/Year]\n",
    "\n",
    "Zunächst führen wir `CompetitionOpenSinceYear` und `CompetitionOpenSinceMonth` zu einer neuen Spalte namens `CompetitionOpenSince` vom Typ datetime zusammen und entfernen danach die urspünglichen Spalten."
   ]
  },
  {
   "cell_type": "code",
   "execution_count": 9,
   "id": "f391255e-b5a4-4872-8e08-e94acf508019",
   "metadata": {},
   "outputs": [],
   "source": [
    "# help function to combine year and month to a datetime\n",
    "def year_month_to_datetime(year_month):\n",
    "    year = year_month.iloc[0]\n",
    "    month = year_month.iloc[1]\n",
    "    try:\n",
    "        date = '{}-{}'.format(int(year), int(month))\n",
    "        return pd.to_datetime(date)\n",
    "    except:\n",
    "        return np.nan"
   ]
  },
  {
   "cell_type": "code",
   "execution_count": 10,
   "id": "b06aee77-24ee-4456-a60b-d5382bdde2d7",
   "metadata": {},
   "outputs": [],
   "source": [
    "stores_df['CompetitionOpenSince'] = stores_df[['CompetitionOpenSinceYear', 'CompetitionOpenSinceMonth']].apply(year_month_to_datetime, axis=1)\n",
    "stores_df.drop(['CompetitionOpenSinceYear', 'CompetitionOpenSinceMonth'], axis=1, inplace= True)"
   ]
  },
  {
   "cell_type": "code",
   "execution_count": 11,
   "id": "bf42d7ab-d2c8-4a60-81cf-4c5c40971952",
   "metadata": {},
   "outputs": [
    {
     "data": {
      "image/png": "[encoded data removed]",
      "text/plain": [
       "<Figure size 640x480 with 1 Axes>"
      ]
     },
     "metadata": {},
     "output_type": "display_data"
    }
   ],
   "source": [
    "sns.histplot(data=stores_df, x='CompetitionOpenSince').set(title='Verteilung von CompetitionOpenSince');"
   ]
  },
  {
   "cell_type": "markdown",
   "id": "0d4b8425-13a4-4809-b7ba-7f9fcdf27b83",
   "metadata": {},
   "source": [
    "Wir stellen fest, dass die Verteilung von CompetitionOpenSince asymmetrisch ist und es Ausreißer gibt. Wir werden die fehlenden Werte imputieren, erst wenn die Filialendaten und die Verkaufsdaten zusammengeführt sind."
   ]
  },
  {
   "cell_type": "markdown",
   "id": "f228a111-e56d-46ef-99f7-1fcffc8455d8",
   "metadata": {},
   "source": [
    "##### Variablen, die mit Promo2 zusammenhängen\n",
    "\n",
    "Es gibt keine Filiale mit `Promo2` gleich 1, für die es keinen Wert für `Promo2Since[Week\\Year]`, oder `PromoInterval` gibt:"
   ]
  },
  {
   "cell_type": "code",
   "execution_count": 12,
   "id": "a9dfeead-75e4-4636-b586-c0b0c02942c0",
   "metadata": {},
   "outputs": [
    {
     "data": {
      "text/plain": [
       "Promo2SinceWeek    0\n",
       "Promo2SinceYear    0\n",
       "PromoInterval      0\n",
       "dtype: int64"
      ]
     },
     "execution_count": 12,
     "metadata": {},
     "output_type": "execute_result"
    }
   ],
   "source": [
    "promo2_mask = stores_df['Promo2'] == 1\n",
    "stores_df[promo2_mask][['Promo2SinceWeek', 'Promo2SinceYear', 'PromoInterval']].isnull().sum()"
   ]
  },
  {
   "cell_type": "markdown",
   "id": "4cf8c717-eb1b-4f42-8fd4-9a59703162f1",
   "metadata": {},
   "source": [
    "Ähnlich wie bei `CompetitionOpenSince[Month/Year]` kodieren wir `Promo2Since[Week/Year]` in einer einzigen `Promo2Since`-Variable vom Typ datetime."
   ]
  },
  {
   "cell_type": "code",
   "execution_count": 13,
   "id": "8f086946-bf0a-4f99-b92c-ad3bc9d66b25",
   "metadata": {},
   "outputs": [],
   "source": [
    "from datetime import datetime\n",
    "\n",
    "# help function to combine week and year to a datetime\n",
    "def week_year_to_datetime(week_year):\n",
    "    week = week_year.iloc[0]\n",
    "    year = week_year.iloc[1]\n",
    "    try:\n",
    "        # Monday of the corresponding week\n",
    "        date = datetime.strptime('{}-{}-1'.format(int(year), int(week)), \"%Y-%W-%w\")\n",
    "        return pd.to_datetime(date)\n",
    "    except:\n",
    "        return np.nan"
   ]
  },
  {
   "cell_type": "code",
   "execution_count": 14,
   "id": "a3b9b499-b846-483e-9b4c-6d7e09f81107",
   "metadata": {},
   "outputs": [],
   "source": [
    "stores_df['Promo2Since'] = stores_df[['Promo2SinceWeek', 'Promo2SinceYear']].apply(week_year_to_datetime, axis=1)\n",
    "stores_df.drop(['Promo2SinceWeek', 'Promo2SinceYear'], axis=1, inplace= True)"
   ]
  },
  {
   "cell_type": "markdown",
   "id": "4a79b39b-e523-44ca-a804-0e37e2036b44",
   "metadata": {},
   "source": [
    "Lass uns die möglichen Werte von`PromoInterval` ansehen:"
   ]
  },
  {
   "cell_type": "code",
   "execution_count": 15,
   "id": "89c9a485-7a77-4508-89c0-57f4f10e23b4",
   "metadata": {},
   "outputs": [
    {
     "data": {
      "text/plain": [
       "array([nan, 'Jan,Apr,Jul,Oct', 'Feb,May,Aug,Nov', 'Mar,Jun,Sept,Dec'],\n",
       "      dtype=object)"
      ]
     },
     "execution_count": 15,
     "metadata": {},
     "output_type": "execute_result"
    }
   ],
   "source": [
    "stores_df['PromoInterval'].unique()"
   ]
  },
  {
   "cell_type": "markdown",
   "id": "65782753-89f8-4072-8b8d-e7f12aa1f3fc",
   "metadata": {},
   "source": [
    "Wie wir sehen, hat Promo2 einen vierteljährlichen Rhythmus, der entweder im Januar, Februar oder März beginnen kann."
   ]
  },
  {
   "cell_type": "markdown",
   "id": "5f7f0800-56eb-49d4-856c-e8e13b133bf5",
   "metadata": {},
   "source": [
    "Wir ändern die Reihenfolge der Spalten und speichern das Ergebnis als CSV-Datei."
   ]
  },
  {
   "cell_type": "code",
   "execution_count": 16,
   "id": "0e025c4e-f0d9-45d6-8b29-822a681d3847",
   "metadata": {},
   "outputs": [
    {
     "data": {
      "text/plain": [
       "Index(['Store', 'StoreType', 'Assortment', 'CompetitionDistance', 'Promo2',\n",
       "       'PromoInterval', 'CompetitionOpenSince', 'Promo2Since'],\n",
       "      dtype='object')"
      ]
     },
     "execution_count": 16,
     "metadata": {},
     "output_type": "execute_result"
    }
   ],
   "source": [
    "stores_df.columns"
   ]
  },
  {
   "cell_type": "code",
   "execution_count": 17,
   "id": "0f32dfcb-792f-4b69-b796-224e7efece15",
   "metadata": {},
   "outputs": [
    {
     "data": {
      "text/html": [
       "<div>\n",
       "<style scoped>\n",
       "    .dataframe tbody tr th:only-of-type {\n",
       "        vertical-align: middle;\n",
       "    }\n",
       "\n",
       "    .dataframe tbody tr th {\n",
       "        vertical-align: top;\n",
       "    }\n",
       "\n",
       "    .dataframe thead th {\n",
       "        text-align: right;\n",
       "    }\n",
       "</style>\n",
       "<table border=\"1\" class=\"dataframe\">\n",
       "  <thead>\n",
       "    <tr style=\"text-align: right;\">\n",
       "      <th></th>\n",
       "      <th>Store</th>\n",
       "      <th>StoreType</th>\n",
       "      <th>Assortment</th>\n",
       "      <th>CompetitionDistance</th>\n",
       "      <th>CompetitionOpenSince</th>\n",
       "      <th>Promo2</th>\n",
       "      <th>Promo2Since</th>\n",
       "      <th>PromoInterval</th>\n",
       "    </tr>\n",
       "  </thead>\n",
       "  <tbody>\n",
       "    <tr>\n",
       "      <th>0</th>\n",
       "      <td>1</td>\n",
       "      <td>c</td>\n",
       "      <td>a</td>\n",
       "      <td>1270.0</td>\n",
       "      <td>2008-09-01</td>\n",
       "      <td>0</td>\n",
       "      <td>NaN</td>\n",
       "      <td>NaN</td>\n",
       "    </tr>\n",
       "    <tr>\n",
       "      <th>1</th>\n",
       "      <td>2</td>\n",
       "      <td>a</td>\n",
       "      <td>a</td>\n",
       "      <td>570.0</td>\n",
       "      <td>2007-11-01</td>\n",
       "      <td>1</td>\n",
       "      <td>2010-03-29</td>\n",
       "      <td>Jan,Apr,Jul,Oct</td>\n",
       "    </tr>\n",
       "    <tr>\n",
       "      <th>2</th>\n",
       "      <td>3</td>\n",
       "      <td>a</td>\n",
       "      <td>a</td>\n",
       "      <td>14130.0</td>\n",
       "      <td>2006-12-01</td>\n",
       "      <td>1</td>\n",
       "      <td>2011-04-04</td>\n",
       "      <td>Jan,Apr,Jul,Oct</td>\n",
       "    </tr>\n",
       "    <tr>\n",
       "      <th>3</th>\n",
       "      <td>4</td>\n",
       "      <td>c</td>\n",
       "      <td>c</td>\n",
       "      <td>620.0</td>\n",
       "      <td>2009-09-01</td>\n",
       "      <td>0</td>\n",
       "      <td>NaN</td>\n",
       "      <td>NaN</td>\n",
       "    </tr>\n",
       "    <tr>\n",
       "      <th>4</th>\n",
       "      <td>5</td>\n",
       "      <td>a</td>\n",
       "      <td>a</td>\n",
       "      <td>29910.0</td>\n",
       "      <td>2015-04-01</td>\n",
       "      <td>0</td>\n",
       "      <td>NaN</td>\n",
       "      <td>NaN</td>\n",
       "    </tr>\n",
       "    <tr>\n",
       "      <th>...</th>\n",
       "      <td>...</td>\n",
       "      <td>...</td>\n",
       "      <td>...</td>\n",
       "      <td>...</td>\n",
       "      <td>...</td>\n",
       "      <td>...</td>\n",
       "      <td>...</td>\n",
       "      <td>...</td>\n",
       "    </tr>\n",
       "    <tr>\n",
       "      <th>1110</th>\n",
       "      <td>1111</td>\n",
       "      <td>a</td>\n",
       "      <td>a</td>\n",
       "      <td>1900.0</td>\n",
       "      <td>2014-06-01</td>\n",
       "      <td>1</td>\n",
       "      <td>2013-08-05</td>\n",
       "      <td>Jan,Apr,Jul,Oct</td>\n",
       "    </tr>\n",
       "    <tr>\n",
       "      <th>1111</th>\n",
       "      <td>1112</td>\n",
       "      <td>c</td>\n",
       "      <td>c</td>\n",
       "      <td>1880.0</td>\n",
       "      <td>2006-04-01</td>\n",
       "      <td>0</td>\n",
       "      <td>NaN</td>\n",
       "      <td>NaN</td>\n",
       "    </tr>\n",
       "    <tr>\n",
       "      <th>1112</th>\n",
       "      <td>1113</td>\n",
       "      <td>a</td>\n",
       "      <td>c</td>\n",
       "      <td>9260.0</td>\n",
       "      <td>NaN</td>\n",
       "      <td>0</td>\n",
       "      <td>NaN</td>\n",
       "      <td>NaN</td>\n",
       "    </tr>\n",
       "    <tr>\n",
       "      <th>1113</th>\n",
       "      <td>1114</td>\n",
       "      <td>a</td>\n",
       "      <td>c</td>\n",
       "      <td>870.0</td>\n",
       "      <td>NaN</td>\n",
       "      <td>0</td>\n",
       "      <td>NaN</td>\n",
       "      <td>NaN</td>\n",
       "    </tr>\n",
       "    <tr>\n",
       "      <th>1114</th>\n",
       "      <td>1115</td>\n",
       "      <td>d</td>\n",
       "      <td>c</td>\n",
       "      <td>5350.0</td>\n",
       "      <td>NaN</td>\n",
       "      <td>1</td>\n",
       "      <td>2012-05-28</td>\n",
       "      <td>Mar,Jun,Sept,Dec</td>\n",
       "    </tr>\n",
       "  </tbody>\n",
       "</table>\n",
       "<p>1115 rows × 8 columns</p>\n",
       "</div>"
      ],
      "text/plain": [
       "      Store StoreType Assortment  CompetitionDistance CompetitionOpenSince  \\\n",
       "0         1         c          a               1270.0           2008-09-01   \n",
       "1         2         a          a                570.0           2007-11-01   \n",
       "2         3         a          a              14130.0           2006-12-01   \n",
       "3         4         c          c                620.0           2009-09-01   \n",
       "4         5         a          a              29910.0           2015-04-01   \n",
       "...     ...       ...        ...                  ...                  ...   \n",
       "1110   1111         a          a               1900.0           2014-06-01   \n",
       "1111   1112         c          c               1880.0           2006-04-01   \n",
       "1112   1113         a          c               9260.0                  NaN   \n",
       "1113   1114         a          c                870.0                  NaN   \n",
       "1114   1115         d          c               5350.0                  NaN   \n",
       "\n",
       "      Promo2 Promo2Since     PromoInterval  \n",
       "0          0         NaN               NaN  \n",
       "1          1  2010-03-29   Jan,Apr,Jul,Oct  \n",
       "2          1  2011-04-04   Jan,Apr,Jul,Oct  \n",
       "3          0         NaN               NaN  \n",
       "4          0         NaN               NaN  \n",
       "...      ...         ...               ...  \n",
       "1110       1  2013-08-05   Jan,Apr,Jul,Oct  \n",
       "1111       0         NaN               NaN  \n",
       "1112       0         NaN               NaN  \n",
       "1113       0         NaN               NaN  \n",
       "1114       1  2012-05-28  Mar,Jun,Sept,Dec  \n",
       "\n",
       "[1115 rows x 8 columns]"
      ]
     },
     "execution_count": 17,
     "metadata": {},
     "output_type": "execute_result"
    }
   ],
   "source": [
    "stores_df = stores_df[['Store', 'StoreType', 'Assortment', 'CompetitionDistance', 'CompetitionOpenSince',\n",
    "                       'Promo2', 'Promo2Since', 'PromoInterval']]\n",
    "\n",
    "stores_df.to_csv(\"../data/stores_clean.csv\", index=False)\n",
    "pd.read_csv(\"../data/stores_clean.csv\")"
   ]
  }
 ],
 "metadata": {
  "kernelspec": {
   "display_name": "Python 3 (ipykernel)",
   "language": "python",
   "name": "python3"
  },
  "language_info": {
   "codemirror_mode": {
    "name": "ipython",
    "version": 3
   },
   "file_extension": ".py",
   "mimetype": "text/x-python",
   "name": "python",
   "nbconvert_exporter": "python",
   "pygments_lexer": "ipython3",
   "version": "3.12.3"
  }
 },
 "nbformat": 4,
 "nbformat_minor": 5
}
