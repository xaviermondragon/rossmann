{
 "cells": [
  {
   "cell_type": "markdown",
   "id": "89e9c663-8f62-4212-b358-435a154afc92",
   "metadata": {},
   "source": [
    "##### Imports"
   ]
  },
  {
   "cell_type": "code",
   "execution_count": 1,
   "id": "442cfd14-1b71-4d7b-8e80-0d5147c7b0e9",
   "metadata": {},
   "outputs": [],
   "source": [
    "import numpy as np\n",
    "import pandas as pd\n",
    "import matplotlib.pyplot as plt\n",
    "import seaborn as sns\n",
    "import datetime\n",
    "from statsmodels.tsa.ar_model import AutoReg\n",
    "import warnings\n",
    "from sklearn.metrics import mean_absolute_percentage_error, mean_absolute_error, mean_squared_error\n",
    "\n",
    "%matplotlib inline\n",
    "warnings.filterwarnings('ignore')"
   ]
  },
  {
   "cell_type": "markdown",
   "id": "535c177f-b33b-4c70-bb90-61301dfbee98",
   "metadata": {},
   "source": [
    "##### Definition of Helper Functions"
   ]
  },
  {
   "cell_type": "code",
   "execution_count": 2,
   "id": "0e75afe4-43c8-4bfa-9008-20b1d66fbf66",
   "metadata": {},
   "outputs": [],
   "source": [
    "def error_table(model_name, y_real, y_pred):\n",
    "    mae = mean_absolute_error(y_real, y_pred)\n",
    "    mape = mean_absolute_percentage_error(y_real, y_pred)\n",
    "    rmse = np.sqrt(mean_squared_error(y_real, y_pred))\n",
    "\n",
    "    return pd.DataFrame({'Model Name': model_name,\n",
    "                        'MAE': mae,\n",
    "                        'MAPE': mape,\n",
    "                        'RMSE': rmse}, index = [model_name])"
   ]
  },
  {
   "cell_type": "code",
   "execution_count": 3,
   "id": "7013b8b4-48a2-4198-af0c-fefe304cd128",
   "metadata": {},
   "outputs": [
    {
     "data": {
      "text/html": [
       "<div>\n",
       "<style scoped>\n",
       "    .dataframe tbody tr th:only-of-type {\n",
       "        vertical-align: middle;\n",
       "    }\n",
       "\n",
       "    .dataframe tbody tr th {\n",
       "        vertical-align: top;\n",
       "    }\n",
       "\n",
       "    .dataframe thead th {\n",
       "        text-align: right;\n",
       "    }\n",
       "</style>\n",
       "<table border=\"1\" class=\"dataframe\">\n",
       "  <thead>\n",
       "    <tr style=\"text-align: right;\">\n",
       "      <th></th>\n",
       "      <th>Store</th>\n",
       "      <th>Sales</th>\n",
       "    </tr>\n",
       "    <tr>\n",
       "      <th>Date</th>\n",
       "      <th></th>\n",
       "      <th></th>\n",
       "    </tr>\n",
       "  </thead>\n",
       "  <tbody>\n",
       "    <tr>\n",
       "      <th>2012-12-31</th>\n",
       "      <td>1</td>\n",
       "      <td>10.185541</td>\n",
       "    </tr>\n",
       "    <tr>\n",
       "      <th>2012-12-31</th>\n",
       "      <td>2</td>\n",
       "      <td>10.007082</td>\n",
       "    </tr>\n",
       "    <tr>\n",
       "      <th>2012-12-31</th>\n",
       "      <td>3</td>\n",
       "      <td>10.479117</td>\n",
       "    </tr>\n",
       "    <tr>\n",
       "      <th>2012-12-31</th>\n",
       "      <td>4</td>\n",
       "      <td>10.798126</td>\n",
       "    </tr>\n",
       "    <tr>\n",
       "      <th>2012-12-31</th>\n",
       "      <td>5</td>\n",
       "      <td>9.939964</td>\n",
       "    </tr>\n",
       "    <tr>\n",
       "      <th>...</th>\n",
       "      <td>...</td>\n",
       "      <td>...</td>\n",
       "    </tr>\n",
       "    <tr>\n",
       "      <th>2015-07-27</th>\n",
       "      <td>1111</td>\n",
       "      <td>10.029547</td>\n",
       "    </tr>\n",
       "    <tr>\n",
       "      <th>2015-07-27</th>\n",
       "      <td>1112</td>\n",
       "      <td>10.546420</td>\n",
       "    </tr>\n",
       "    <tr>\n",
       "      <th>2015-07-27</th>\n",
       "      <td>1113</td>\n",
       "      <td>10.235988</td>\n",
       "    </tr>\n",
       "    <tr>\n",
       "      <th>2015-07-27</th>\n",
       "      <td>1114</td>\n",
       "      <td>11.545025</td>\n",
       "    </tr>\n",
       "    <tr>\n",
       "      <th>2015-07-27</th>\n",
       "      <td>1115</td>\n",
       "      <td>10.399403</td>\n",
       "    </tr>\n",
       "  </tbody>\n",
       "</table>\n",
       "<p>145639 rows × 2 columns</p>\n",
       "</div>"
      ],
      "text/plain": [
       "            Store      Sales\n",
       "Date                        \n",
       "2012-12-31      1  10.185541\n",
       "2012-12-31      2  10.007082\n",
       "2012-12-31      3  10.479117\n",
       "2012-12-31      4  10.798126\n",
       "2012-12-31      5   9.939964\n",
       "...           ...        ...\n",
       "2015-07-27   1111  10.029547\n",
       "2015-07-27   1112  10.546420\n",
       "2015-07-27   1113  10.235988\n",
       "2015-07-27   1114  11.545025\n",
       "2015-07-27   1115  10.399403\n",
       "\n",
       "[145639 rows x 2 columns]"
      ]
     },
     "metadata": {},
     "output_type": "display_data"
    }
   ],
   "source": [
    "df = pd.read_csv(\"../data/week_sales.csv\", usecols=['Date', 'Store', 'Sales'], parse_dates=['Date'], index_col='Date')\n",
    "#df.sort_index(ascending=False, inplace=True)\n",
    "display(df)"
   ]
  },
  {
   "cell_type": "markdown",
   "id": "52755b36-d83d-4c9a-8ea4-e8a4f2022621",
   "metadata": {},
   "source": [
    "##### Create a separate train- and test time series for each store:"
   ]
  },
  {
   "cell_type": "code",
   "execution_count": 4,
   "id": "f568e7f7-fd4b-44e1-9240-c4e5d6ae6197",
   "metadata": {},
   "outputs": [],
   "source": [
    "# 8 weeks before the last date\n",
    "test_date = df.index[-1]- datetime.timedelta(weeks=7)\n",
    "\n",
    "y_train = []\n",
    "y_test = []\n",
    "for store in np.sort(df['Store'].unique()):\n",
    "    # a time series per store \n",
    "    store_mask = df['Store'] == store\n",
    "    store_df = df[store_mask]\n",
    "    # append time series\n",
    "    y_train.append(store_df[store_df.index < test_date])\n",
    "    y_test.append(store_df[store_df.index >= test_date])"
   ]
  },
  {
   "cell_type": "markdown",
   "id": "ca37daa4-ff78-4765-be11-bfe53b0f266c",
   "metadata": {},
   "source": [
    "##### Autoregressive Model AR(1)"
   ]
  },
  {
   "cell_type": "code",
   "execution_count": 5,
   "id": "56ff17c6-8e93-4bc2-83b5-03a8cfe2db02",
   "metadata": {},
   "outputs": [],
   "source": [
    "y_train_0 = y_train[0]['Sales']\n",
    "y_test_0 = y_test[0]['Sales']"
   ]
  },
  {
   "cell_type": "code",
   "execution_count": 6,
   "id": "1c9255d4-9419-4b31-83d1-599c59e2d755",
   "metadata": {},
   "outputs": [],
   "source": [
    "ar_model = AutoReg(y_train_0, lags=1)\n",
    "ar_results = ar_model.fit()"
   ]
  },
  {
   "cell_type": "code",
   "execution_count": 7,
   "id": "235164e0-d052-426a-ab5c-caba641d6c40",
   "metadata": {},
   "outputs": [],
   "source": [
    "y_pred_0 = ar_results.predict(start=len(y_train_0), end=len(y_train_0) + len(y_test_0) - 1, dynamic=False)"
   ]
  },
  {
   "cell_type": "code",
   "execution_count": 8,
   "id": "21872d54-46c2-491b-a382-d7c9a57c2d85",
   "metadata": {},
   "outputs": [
    {
     "data": {
      "text/plain": [
       "Date\n",
       "2012-12-31    10.185541\n",
       "2013-01-07    10.325285\n",
       "2013-01-14    10.190770\n",
       "2013-01-21    10.365112\n",
       "2013-01-28    10.363157\n",
       "                ...    \n",
       "2015-05-04    10.212185\n",
       "2015-05-11     9.972780\n",
       "2015-05-18    10.019536\n",
       "2015-05-25    10.255130\n",
       "2015-06-01    10.122543\n",
       "Name: Sales, Length: 127, dtype: float64"
      ]
     },
     "execution_count": 8,
     "metadata": {},
     "output_type": "execute_result"
    }
   ],
   "source": [
    "y_train_0"
   ]
  },
  {
   "cell_type": "code",
   "execution_count": 9,
   "id": "fde61fa5-12ee-4b6c-98bc-267d380dcc32",
   "metadata": {},
   "outputs": [
    {
     "data": {
      "text/plain": [
       "2015-06-08    10.193738\n",
       "2015-06-15    10.212730\n",
       "2015-06-22    10.217797\n",
       "2015-06-29    10.219149\n",
       "2015-07-06    10.219509\n",
       "2015-07-13    10.219606\n",
       "2015-07-20    10.219631\n",
       "2015-07-27    10.219638\n",
       "Freq: W-MON, dtype: float64"
      ]
     },
     "execution_count": 9,
     "metadata": {},
     "output_type": "execute_result"
    }
   ],
   "source": [
    "y_pred_0"
   ]
  },
  {
   "cell_type": "code",
   "execution_count": 10,
   "id": "3013c5ef-1d99-4640-9816-de6ee7c5da8a",
   "metadata": {},
   "outputs": [
    {
     "data": {
      "text/plain": [
       "Date\n",
       "2015-06-08    10.118196\n",
       "2015-06-15    10.152026\n",
       "2015-06-22    10.050829\n",
       "2015-06-29    10.320156\n",
       "2015-07-06    10.074790\n",
       "2015-07-13    10.236023\n",
       "2015-07-20    10.125190\n",
       "2015-07-27     9.907330\n",
       "Name: Sales, dtype: float64"
      ]
     },
     "execution_count": 10,
     "metadata": {},
     "output_type": "execute_result"
    }
   ],
   "source": [
    "y_test_0"
   ]
  },
  {
   "cell_type": "code",
   "execution_count": 11,
   "id": "2d05b28e-3666-4a01-9e9b-61a5e206f55f",
   "metadata": {},
   "outputs": [
    {
     "data": {
      "text/html": [
       "<div>\n",
       "<style scoped>\n",
       "    .dataframe tbody tr th:only-of-type {\n",
       "        vertical-align: middle;\n",
       "    }\n",
       "\n",
       "    .dataframe tbody tr th {\n",
       "        vertical-align: top;\n",
       "    }\n",
       "\n",
       "    .dataframe thead th {\n",
       "        text-align: right;\n",
       "    }\n",
       "</style>\n",
       "<table border=\"1\" class=\"dataframe\">\n",
       "  <thead>\n",
       "    <tr style=\"text-align: right;\">\n",
       "      <th></th>\n",
       "      <th>Model Name</th>\n",
       "      <th>MAE</th>\n",
       "      <th>MAPE</th>\n",
       "      <th>RMSE</th>\n",
       "    </tr>\n",
       "  </thead>\n",
       "  <tbody>\n",
       "    <tr>\n",
       "      <th>AR(1)</th>\n",
       "      <td>AR(1)</td>\n",
       "      <td>3082.337745</td>\n",
       "      <td>0.132064</td>\n",
       "      <td>3652.68939</td>\n",
       "    </tr>\n",
       "  </tbody>\n",
       "</table>\n",
       "</div>"
      ],
      "text/plain": [
       "      Model Name          MAE      MAPE        RMSE\n",
       "AR(1)      AR(1)  3082.337745  0.132064  3652.68939"
      ]
     },
     "execution_count": 11,
     "metadata": {},
     "output_type": "execute_result"
    }
   ],
   "source": [
    "error_table( 'AR(1)', np.expm1(y_test_0), np.expm1(y_pred_0))"
   ]
  },
  {
   "cell_type": "code",
   "execution_count": null,
   "id": "0903d249-cbb1-4a9c-a7a4-4ed2ca4a6d3d",
   "metadata": {},
   "outputs": [],
   "source": []
  }
 ],
 "metadata": {
  "kernelspec": {
   "display_name": "Python 3 (ipykernel)",
   "language": "python",
   "name": "python3"
  },
  "language_info": {
   "codemirror_mode": {
    "name": "ipython",
    "version": 3
   },
   "file_extension": ".py",
   "mimetype": "text/x-python",
   "name": "python",
   "nbconvert_exporter": "python",
   "pygments_lexer": "ipython3",
   "version": "3.12.3"
  }
 },
 "nbformat": 4,
 "nbformat_minor": 5
}
