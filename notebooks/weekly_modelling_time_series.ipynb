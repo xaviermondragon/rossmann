{
 "cells": [
  {
   "cell_type": "markdown",
   "id": "89e9c663-8f62-4212-b358-435a154afc92",
   "metadata": {},
   "source": [
    "##### Imports"
   ]
  },
  {
   "cell_type": "code",
   "execution_count": 1,
   "id": "442cfd14-1b71-4d7b-8e80-0d5147c7b0e9",
   "metadata": {},
   "outputs": [],
   "source": [
    "import numpy as np\n",
    "import pandas as pd\n",
    "import matplotlib.pyplot as plt\n",
    "import seaborn as sns\n",
    "import datetime\n",
    "from statsmodels.tsa.ar_model import AutoReg\n",
    "from statsmodels.graphics.tsaplots import plot_acf\n",
    "import warnings\n",
    "from sklearn.metrics import mean_absolute_percentage_error, mean_absolute_error, mean_squared_error\n",
    "\n",
    "%matplotlib inline\n",
    "warnings.filterwarnings('ignore')"
   ]
  },
  {
   "cell_type": "markdown",
   "id": "535c177f-b33b-4c70-bb90-61301dfbee98",
   "metadata": {},
   "source": [
    "##### Definition of Helper Functions"
   ]
  },
  {
   "cell_type": "code",
   "execution_count": 2,
   "id": "0e75afe4-43c8-4bfa-9008-20b1d66fbf66",
   "metadata": {},
   "outputs": [],
   "source": [
    "def error_table(model_name, y_real, y_pred):\n",
    "    mae = mean_absolute_error(y_real, y_pred)\n",
    "    mape = mean_absolute_percentage_error(y_real, y_pred)\n",
    "    rmse = np.sqrt(mean_squared_error(y_real, y_pred))\n",
    "\n",
    "    return pd.DataFrame({'Model Name': model_name,\n",
    "                        'MAE': mae,\n",
    "                        'MAPE': mape,\n",
    "                        'RMSE': rmse}, index = [model_name])"
   ]
  },
  {
   "cell_type": "markdown",
   "id": "5dec8871-3443-469e-b78f-46f62256de18",
   "metadata": {},
   "source": [
    "##### Read data"
   ]
  },
  {
   "cell_type": "code",
   "execution_count": 3,
   "id": "4154bf89-5f4a-4833-be9d-b146fbd14159",
   "metadata": {},
   "outputs": [
    {
     "data": {
      "text/html": [
       "<div>\n",
       "<style scoped>\n",
       "    .dataframe tbody tr th:only-of-type {\n",
       "        vertical-align: middle;\n",
       "    }\n",
       "\n",
       "    .dataframe tbody tr th {\n",
       "        vertical-align: top;\n",
       "    }\n",
       "\n",
       "    .dataframe thead th {\n",
       "        text-align: right;\n",
       "    }\n",
       "</style>\n",
       "<table border=\"1\" class=\"dataframe\">\n",
       "  <thead>\n",
       "    <tr style=\"text-align: right;\">\n",
       "      <th></th>\n",
       "      <th></th>\n",
       "      <th>Sales</th>\n",
       "    </tr>\n",
       "    <tr>\n",
       "      <th>Store</th>\n",
       "      <th>Date</th>\n",
       "      <th></th>\n",
       "    </tr>\n",
       "  </thead>\n",
       "  <tbody>\n",
       "    <tr>\n",
       "      <th rowspan=\"5\" valign=\"top\">1</th>\n",
       "      <th>2015-06-01</th>\n",
       "      <td>10.122543</td>\n",
       "    </tr>\n",
       "    <tr>\n",
       "      <th>2015-05-25</th>\n",
       "      <td>10.255130</td>\n",
       "    </tr>\n",
       "    <tr>\n",
       "      <th>2015-05-18</th>\n",
       "      <td>10.019536</td>\n",
       "    </tr>\n",
       "    <tr>\n",
       "      <th>2015-05-11</th>\n",
       "      <td>9.972780</td>\n",
       "    </tr>\n",
       "    <tr>\n",
       "      <th>2015-05-04</th>\n",
       "      <td>10.212185</td>\n",
       "    </tr>\n",
       "    <tr>\n",
       "      <th>...</th>\n",
       "      <th>...</th>\n",
       "      <td>...</td>\n",
       "    </tr>\n",
       "    <tr>\n",
       "      <th rowspan=\"5\" valign=\"top\">1115</th>\n",
       "      <th>2013-01-28</th>\n",
       "      <td>10.260707</td>\n",
       "    </tr>\n",
       "    <tr>\n",
       "      <th>2013-01-21</th>\n",
       "      <td>10.302532</td>\n",
       "    </tr>\n",
       "    <tr>\n",
       "      <th>2013-01-14</th>\n",
       "      <td>10.036663</td>\n",
       "    </tr>\n",
       "    <tr>\n",
       "      <th>2013-01-07</th>\n",
       "      <td>10.229079</td>\n",
       "    </tr>\n",
       "    <tr>\n",
       "      <th>2012-12-31</th>\n",
       "      <td>10.094562</td>\n",
       "    </tr>\n",
       "  </tbody>\n",
       "</table>\n",
       "<p>136726 rows × 1 columns</p>\n",
       "</div>"
      ],
      "text/plain": [
       "                      Sales\n",
       "Store Date                 \n",
       "1     2015-06-01  10.122543\n",
       "      2015-05-25  10.255130\n",
       "      2015-05-18  10.019536\n",
       "      2015-05-11   9.972780\n",
       "      2015-05-04  10.212185\n",
       "...                     ...\n",
       "1115  2013-01-28  10.260707\n",
       "      2013-01-21  10.302532\n",
       "      2013-01-14  10.036663\n",
       "      2013-01-07  10.229079\n",
       "      2012-12-31  10.094562\n",
       "\n",
       "[136726 rows x 1 columns]"
      ]
     },
     "metadata": {},
     "output_type": "display_data"
    }
   ],
   "source": [
    "y_train = pd.read_csv(\"../data/y_train.csv\", parse_dates=['Date'], index_col=['Store', 'Date'])\n",
    "y_test = pd.read_csv(\"../data/y_test.csv\", parse_dates=['Date'], index_col=['Store', 'Date'])\n",
    "display(y_train)"
   ]
  },
  {
   "cell_type": "markdown",
   "id": "ca37daa4-ff78-4765-be11-bfe53b0f266c",
   "metadata": {},
   "source": [
    "##### Autoregressive Model AR(p)"
   ]
  },
  {
   "cell_type": "markdown",
   "id": "8d65d0dc-bf7d-4f69-9b92-f5500d5dd956",
   "metadata": {},
   "source": [
    "Plot an autocorrelation plot for the train data at a global level (all the stores), to decide which lag(s) to include in the model:"
   ]
  },
  {
   "cell_type": "code",
   "execution_count": 4,
   "id": "a6a60c34-8f74-4f25-b8ef-ca5e9d5b7461",
   "metadata": {},
   "outputs": [],
   "source": [
    "# Get 1 store\n",
    "#foo = y_train[np.in1d(y_train.index.get_level_values(0), 1)]\n",
    "#plot_acf(foo);"
   ]
  },
  {
   "cell_type": "code",
   "execution_count": 5,
   "id": "624aacba-37ff-44bd-8be1-d1018f2269d6",
   "metadata": {},
   "outputs": [],
   "source": [
    "global_train = y_train.reset_index()\n",
    "global_train.set_index('Date', inplace=True)\n",
    "# first recover the sales at their original scale\n",
    "global_train['Sales'] = np.expm1(global_train['Sales'])\n",
    "# aggregate all the stores for each date and log scale once again\n",
    "global_train = global_train.groupby('Date').sum().drop('Store', axis=1)\n",
    "global_train['Sales'] = np.log1p(global_train['Sales'])"
   ]
  },
  {
   "cell_type": "code",
   "execution_count": 6,
   "id": "0f90d821-3b24-4fd5-bc5c-094c77c07b97",
   "metadata": {},
   "outputs": [
    {
     "data": {
      "image/png": "[encoded data removed]",
      "text/plain": [
       "<Figure size 640x480 with 1 Axes>"
      ]
     },
     "metadata": {},
     "output_type": "display_data"
    }
   ],
   "source": [
    "plot_acf(global_train, zero=False);"
   ]
  },
  {
   "cell_type": "markdown",
   "id": "5c4ba270-c6f5-4a09-bf0f-352e4bf40cdf",
   "metadata": {},
   "source": [
    "As we can observe, the autocorrelations for the third and sixth lag lie outisde the shaded area. Therefore we will train an autoregressive model with lags 3 and 6 for each store."
   ]
  },
  {
   "cell_type": "code",
   "execution_count": 7,
   "id": "534d92d7-8a43-4eaf-ad12-ed6d95f54728",
   "metadata": {},
   "outputs": [],
   "source": [
    "# revert to single index on date\n",
    "y_train_1 = y_train.reset_index(level=[0])\n",
    "y_test_1 = y_test.reset_index(level=[0])\n",
    "\n",
    "y_ar_test_list = []\n",
    "y_ar_pred_list = []\n",
    "\n",
    "# loop over stores\n",
    "for s in np.sort(y_train_1['Store'].unique()):\n",
    "    y_test_s = y_test_1[y_test_1['Store'] == s]['Sales']\n",
    "    y_train_s = y_train_1[y_train_1['Store'] == s]['Sales']\n",
    "    # Is good to have also the store as part of the index\n",
    "    y_test_s.index = pd.MultiIndex.from_tuples([(s, date) for date in y_test_s.index], names=('Store', 'Date'))\n",
    "    # fit and predict\n",
    "    ar_model = AutoReg(y_train_s, lags=[3,6])\n",
    "    ar_results = ar_model.fit()\n",
    "    y_pred_s = ar_results.predict(start=len(y_train_s), end=len(y_train_s) + len(y_test_s) - 1, dynamic=False)\n",
    "    y_pred_s.index = y_test_s.index\n",
    "    # append to lists\n",
    "    y_ar_test_list.append(y_test_s)\n",
    "    y_ar_pred_list.append(y_pred_s)\n",
    "\n",
    "# concatenate series\n",
    "y_ar_test = pd.concat(y_ar_test_list)\n",
    "y_ar_pred = pd.concat(y_ar_pred_list)"
   ]
  },
  {
   "cell_type": "code",
   "execution_count": 8,
   "id": "409b9b4b-0bce-4f03-ab1b-519de31dd205",
   "metadata": {},
   "outputs": [
    {
     "data": {
      "text/html": [
       "<div>\n",
       "<style scoped>\n",
       "    .dataframe tbody tr th:only-of-type {\n",
       "        vertical-align: middle;\n",
       "    }\n",
       "\n",
       "    .dataframe tbody tr th {\n",
       "        vertical-align: top;\n",
       "    }\n",
       "\n",
       "    .dataframe thead th {\n",
       "        text-align: right;\n",
       "    }\n",
       "</style>\n",
       "<table border=\"1\" class=\"dataframe\">\n",
       "  <thead>\n",
       "    <tr style=\"text-align: right;\">\n",
       "      <th></th>\n",
       "      <th>Model Name</th>\n",
       "      <th>MAE</th>\n",
       "      <th>MAPE</th>\n",
       "      <th>RMSE</th>\n",
       "    </tr>\n",
       "  </thead>\n",
       "  <tbody>\n",
       "    <tr>\n",
       "      <th>AR(3,6)</th>\n",
       "      <td>AR(3,6)</td>\n",
       "      <td>4977.274593</td>\n",
       "      <td>0.125097</td>\n",
       "      <td>7163.405489</td>\n",
       "    </tr>\n",
       "  </tbody>\n",
       "</table>\n",
       "</div>"
      ],
      "text/plain": [
       "        Model Name          MAE      MAPE         RMSE\n",
       "AR(3,6)    AR(3,6)  4977.274593  0.125097  7163.405489"
      ]
     },
     "execution_count": 8,
     "metadata": {},
     "output_type": "execute_result"
    }
   ],
   "source": [
    "error_table('AR(3,6)', np.expm1(y_ar_test), np.expm1(y_ar_pred))"
   ]
  },
  {
   "cell_type": "code",
   "execution_count": 6,
   "id": "56ff17c6-8e93-4bc2-83b5-03a8cfe2db02",
   "metadata": {},
   "outputs": [],
   "source": [
    "#Toy example\n",
    "#y_train_0 = y_train[0]['Sales']\n",
    "#y_test_0 = y_test[0]['Sales']\n",
    "\n",
    "#ar_model = AutoReg(y_train_0, lags=[3,6])\n",
    "#ar_results = ar_model.fit()\n",
    "#y_pred_0 = ar_results.predict(start=len(y_train_0), end=len(y_train_0) + len(y_test_0) - 1, dynamic=False)\n",
    "\n",
    "#error_table( 'AR(1)', np.expm1(y_test_0), np.expm1(y_pred_0))"
   ]
  }
 ],
 "metadata": {
  "kernelspec": {
   "display_name": "Python 3 (ipykernel)",
   "language": "python",
   "name": "python3"
  },
  "language_info": {
   "codemirror_mode": {
    "name": "ipython",
    "version": 3
   },
   "file_extension": ".py",
   "mimetype": "text/x-python",
   "name": "python",
   "nbconvert_exporter": "python",
   "pygments_lexer": "ipython3",
   "version": "3.12.3"
  }
 },
 "nbformat": 4,
 "nbformat_minor": 5
}
