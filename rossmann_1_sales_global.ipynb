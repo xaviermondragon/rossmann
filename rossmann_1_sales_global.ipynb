{
 "cells": [
  {
   "cell_type": "markdown",
   "id": "6ae8b612-05ec-4e99-a926-ad4a75611a2f",
   "metadata": {},
   "source": [
    "# PROJEKT ROSSMANN"
   ]
  },
  {
   "cell_type": "markdown",
   "id": "eb6ab9ab-d822-40b9-9fcb-a85306eafa8b",
   "metadata": {},
   "source": [
    "## Motivation:\n",
    "Rossmann betreibt über 4.300 Drogeriemärkte in 9 europäischen Ländern (vgl. https://de.wikipedia.org/wiki/Rossmann_(Handelskette)). Derzeit sind Rossmann-Filialleiter damit beauftragt, ihre wöchentlichen Verkaufsprognosen bis zu acht Wochen im Voraus zu erstellen. Die Verkaufsergebnisse der Filialen werden von vielen Faktoren beeinflusst, einschließlich Werbeaktionen, Wettbewerbsintensität, Schulferien und staatlichen Feiertagen, saisonalen Veränderungen und Standortbedingungen. Da Tausende von einzelnen Filialleitern Verkaufsprognosen auf der Grundlage ihrer individuellen Umstände erstellen, kann die Genauigkeit der Ergebnisse sehr unterschiedlich sein. Daher ist das Data Science Team des Unternehmens auf einer neuen Mission, eine vereinheitlichte Modellierungsmethode für Filialleiter zu erstellen, um die wöchentlichen Ergebnisse mit höherer Genauigkeit vorherzusagen. Das Management Team benötigt zudem auch einen Gesamtbericht mit machbaren bzw. umsetzbaren Strategien, um die allgemeine Leistung (Performance) aller Filialen zu verstehen und eine Möglichkeit zur Optimierung zukünftiger Verkaufsleistungen (d. h. der Umsatzerlöse) zu finden. Zuletzt muss jedem Filialleiter ein individueller Bericht zur Leistung der jeweiligen Filiale zur Verfügung gestellt werden."
   ]
  },
  {
   "cell_type": "markdown",
   "id": "3ac18255-741e-4957-a373-86aeade6a9c2",
   "metadata": {},
   "source": [
    "## Datenquelle: \n",
    "Die in diesem Projekt verwendeten Daten stammen von https://www.kaggle.com/c/rossmann-store-sales/data und bestehen aus zwei Datensätzen:\n",
    "- Der Datensatz `train.csv` enthält Informationen über die Umsätze von 1115 Rossmann Filialen, die über 942 Tage vom 01.01.2013 bis 31.07.2015 gesammelt wurden.\n",
    "- Der Datensatz `store.csv` enthält ergänzende Informationen über die 1115 Rossmann Filialen."
   ]
  },
  {
   "cell_type": "markdown",
   "id": "53abcd11-19d8-4120-86e2-a9693a4048b7",
   "metadata": {},
   "source": [
    "### Importieren der notwendigen Bibliotheken:"
   ]
  },
  {
   "cell_type": "code",
   "execution_count": 22,
   "id": "f7ea2ab2-e743-4a7b-86c2-0cadb2657b91",
   "metadata": {},
   "outputs": [],
   "source": [
    "import numpy as np\n",
    "import pandas as pd\n",
    "import matplotlib.pyplot as plt\n",
    "import seaborn as sns\n",
    "%matplotlib inline"
   ]
  },
  {
   "cell_type": "markdown",
   "id": "4d622ba4-603f-4b33-9717-bc0ba91041e3",
   "metadata": {},
   "source": [
    "#### Datensatz für Verkäufe"
   ]
  },
  {
   "cell_type": "code",
   "execution_count": 23,
   "id": "6ae7ed1f-e814-4a83-a907-58d5aa8db276",
   "metadata": {},
   "outputs": [
    {
     "data": {
      "text/html": [
       "<div>\n",
       "<style scoped>\n",
       "    .dataframe tbody tr th:only-of-type {\n",
       "        vertical-align: middle;\n",
       "    }\n",
       "\n",
       "    .dataframe tbody tr th {\n",
       "        vertical-align: top;\n",
       "    }\n",
       "\n",
       "    .dataframe thead th {\n",
       "        text-align: right;\n",
       "    }\n",
       "</style>\n",
       "<table border=\"1\" class=\"dataframe\">\n",
       "  <thead>\n",
       "    <tr style=\"text-align: right;\">\n",
       "      <th></th>\n",
       "      <th>Store</th>\n",
       "      <th>DayOfWeek</th>\n",
       "      <th>Date</th>\n",
       "      <th>Sales</th>\n",
       "      <th>Customers</th>\n",
       "      <th>Open</th>\n",
       "      <th>Promo</th>\n",
       "      <th>StateHoliday</th>\n",
       "      <th>SchoolHoliday</th>\n",
       "    </tr>\n",
       "  </thead>\n",
       "  <tbody>\n",
       "    <tr>\n",
       "      <th>0</th>\n",
       "      <td>1</td>\n",
       "      <td>5</td>\n",
       "      <td>2015-07-31</td>\n",
       "      <td>5263</td>\n",
       "      <td>555</td>\n",
       "      <td>1</td>\n",
       "      <td>1</td>\n",
       "      <td>0</td>\n",
       "      <td>1</td>\n",
       "    </tr>\n",
       "    <tr>\n",
       "      <th>1</th>\n",
       "      <td>2</td>\n",
       "      <td>5</td>\n",
       "      <td>2015-07-31</td>\n",
       "      <td>6064</td>\n",
       "      <td>625</td>\n",
       "      <td>1</td>\n",
       "      <td>1</td>\n",
       "      <td>0</td>\n",
       "      <td>1</td>\n",
       "    </tr>\n",
       "    <tr>\n",
       "      <th>2</th>\n",
       "      <td>3</td>\n",
       "      <td>5</td>\n",
       "      <td>2015-07-31</td>\n",
       "      <td>8314</td>\n",
       "      <td>821</td>\n",
       "      <td>1</td>\n",
       "      <td>1</td>\n",
       "      <td>0</td>\n",
       "      <td>1</td>\n",
       "    </tr>\n",
       "    <tr>\n",
       "      <th>3</th>\n",
       "      <td>4</td>\n",
       "      <td>5</td>\n",
       "      <td>2015-07-31</td>\n",
       "      <td>13995</td>\n",
       "      <td>1498</td>\n",
       "      <td>1</td>\n",
       "      <td>1</td>\n",
       "      <td>0</td>\n",
       "      <td>1</td>\n",
       "    </tr>\n",
       "    <tr>\n",
       "      <th>4</th>\n",
       "      <td>5</td>\n",
       "      <td>5</td>\n",
       "      <td>2015-07-31</td>\n",
       "      <td>4822</td>\n",
       "      <td>559</td>\n",
       "      <td>1</td>\n",
       "      <td>1</td>\n",
       "      <td>0</td>\n",
       "      <td>1</td>\n",
       "    </tr>\n",
       "  </tbody>\n",
       "</table>\n",
       "</div>"
      ],
      "text/plain": [
       "   Store  DayOfWeek        Date  Sales  Customers  Open  Promo StateHoliday  \\\n",
       "0      1          5  2015-07-31   5263        555     1      1            0   \n",
       "1      2          5  2015-07-31   6064        625     1      1            0   \n",
       "2      3          5  2015-07-31   8314        821     1      1            0   \n",
       "3      4          5  2015-07-31  13995       1498     1      1            0   \n",
       "4      5          5  2015-07-31   4822        559     1      1            0   \n",
       "\n",
       "   SchoolHoliday  \n",
       "0              1  \n",
       "1              1  \n",
       "2              1  \n",
       "3              1  \n",
       "4              1  "
      ]
     },
     "execution_count": 23,
     "metadata": {},
     "output_type": "execute_result"
    }
   ],
   "source": [
    "# I specify the dtype of StateHoliday because it is originally a mixture of numbers and strings\n",
    "sales_df = pd.read_csv(\"train.csv\", dtype={'StateHoliday': 'object'})\n",
    "sales_df.head()"
   ]
  },
  {
   "cell_type": "code",
   "execution_count": 24,
   "id": "42393346-cef7-4624-b210-ea3c19c15d88",
   "metadata": {},
   "outputs": [
    {
     "name": "stdout",
     "output_type": "stream",
     "text": [
      "<class 'pandas.core.frame.DataFrame'>\n",
      "RangeIndex: 1017209 entries, 0 to 1017208\n",
      "Data columns (total 9 columns):\n",
      " #   Column         Non-Null Count    Dtype \n",
      "---  ------         --------------    ----- \n",
      " 0   Store          1017209 non-null  int64 \n",
      " 1   DayOfWeek      1017209 non-null  int64 \n",
      " 2   Date           1017209 non-null  object\n",
      " 3   Sales          1017209 non-null  int64 \n",
      " 4   Customers      1017209 non-null  int64 \n",
      " 5   Open           1017209 non-null  int64 \n",
      " 6   Promo          1017209 non-null  int64 \n",
      " 7   StateHoliday   1017209 non-null  object\n",
      " 8   SchoolHoliday  1017209 non-null  int64 \n",
      "dtypes: int64(7), object(2)\n",
      "memory usage: 69.8+ MB\n"
     ]
    }
   ],
   "source": [
    "sales_df.info()"
   ]
  },
  {
   "cell_type": "markdown",
   "id": "e6e61502-984b-436f-8fc7-e953a5e4e413",
   "metadata": {},
   "source": [
    "Die Bedeutungen der Variablen sind wie folgt:\n",
    "- Store: Eine eindeutige ID für jede Filiale. Nimmt fortlaufende Werte von 1 bis 1115 an.\n",
    "- DayOfWeek: Selbsterklärend. Kodiert als Montag -> 1, Dienstag -> 2,...,Sonntag -> 7.\n",
    "- Date: Selbsterklärend. Das Format is JJJJ-MM-TT \n",
    "- Sales: Der Umsatz für einen bestimmten Tag in Euro (das ist die Zielvariable, die vorhergesagt werden soll, auf wöchentlicher Ebene aggregiert).\n",
    "- Customers: Die Anzahl der Kunden an einem bestimmten Tag.\n",
    "- Open: Ein Indikator dafür, ob der Laden (Filiale) geöffnet war (0 = geschlossen, 1 = geöffnet).\n",
    "- StateHoliday: Gibt einen staatlichen Feiertag an. (a = öffentlicher Feiertag, b = Osterferien, c = Weihnachten, 0 = kein Feiertag).\n",
    "- SchoolHoliday: Gibt an, ob das (Filiale, Datum) Paar von der Schließung öffentlicher Schulen betroffen war (0 = nicht betrfoffen, 1 = betroffen)."
   ]
  },
  {
   "cell_type": "markdown",
   "id": "275d5725-7aff-42f7-80cd-74d12c88506d",
   "metadata": {},
   "source": [
    "Wir ändern den Typ von Date"
   ]
  },
  {
   "cell_type": "code",
   "execution_count": 25,
   "id": "5f8ace11-a15f-43af-b88f-f5fd37ffd763",
   "metadata": {},
   "outputs": [],
   "source": [
    "sales_df['Date'] = pd.to_datetime(sales_df['Date'])"
   ]
  },
  {
   "cell_type": "markdown",
   "id": "16620733-f2e3-4375-95e4-b2bfdb474c7a",
   "metadata": {},
   "source": [
    "Lass uns `StateHoliday` als die Anzahl der jeweiligen Art von Feiertag kodieren (One-Hot Kodierung) und entfernen wir danach die ursprüngliche Variable:"
   ]
  },
  {
   "cell_type": "code",
   "execution_count": 26,
   "id": "512a1da9-743a-4b6f-86f1-9eb1afa26277",
   "metadata": {},
   "outputs": [
    {
     "data": {
      "text/plain": [
       "array(['0', 'a', 'b', 'c'], dtype=object)"
      ]
     },
     "execution_count": 26,
     "metadata": {},
     "output_type": "execute_result"
    }
   ],
   "source": [
    "sales_df['StateHoliday'].unique()"
   ]
  },
  {
   "cell_type": "code",
   "execution_count": 27,
   "id": "3c9d074b-fe98-465d-935c-2d70faea59c0",
   "metadata": {},
   "outputs": [
    {
     "data": {
      "text/html": [
       "<div>\n",
       "<style scoped>\n",
       "    .dataframe tbody tr th:only-of-type {\n",
       "        vertical-align: middle;\n",
       "    }\n",
       "\n",
       "    .dataframe tbody tr th {\n",
       "        vertical-align: top;\n",
       "    }\n",
       "\n",
       "    .dataframe thead th {\n",
       "        text-align: right;\n",
       "    }\n",
       "</style>\n",
       "<table border=\"1\" class=\"dataframe\">\n",
       "  <thead>\n",
       "    <tr style=\"text-align: right;\">\n",
       "      <th></th>\n",
       "      <th>Store</th>\n",
       "      <th>DayOfWeek</th>\n",
       "      <th>Date</th>\n",
       "      <th>Sales</th>\n",
       "      <th>Customers</th>\n",
       "      <th>Open</th>\n",
       "      <th>Promo</th>\n",
       "      <th>SchoolHoliday</th>\n",
       "      <th>PublicHoliday</th>\n",
       "      <th>Easter</th>\n",
       "      <th>Christmas</th>\n",
       "    </tr>\n",
       "  </thead>\n",
       "  <tbody>\n",
       "    <tr>\n",
       "      <th>0</th>\n",
       "      <td>1</td>\n",
       "      <td>5</td>\n",
       "      <td>2015-07-31</td>\n",
       "      <td>5263</td>\n",
       "      <td>555</td>\n",
       "      <td>1</td>\n",
       "      <td>1</td>\n",
       "      <td>1</td>\n",
       "      <td>0</td>\n",
       "      <td>0</td>\n",
       "      <td>0</td>\n",
       "    </tr>\n",
       "    <tr>\n",
       "      <th>1</th>\n",
       "      <td>2</td>\n",
       "      <td>5</td>\n",
       "      <td>2015-07-31</td>\n",
       "      <td>6064</td>\n",
       "      <td>625</td>\n",
       "      <td>1</td>\n",
       "      <td>1</td>\n",
       "      <td>1</td>\n",
       "      <td>0</td>\n",
       "      <td>0</td>\n",
       "      <td>0</td>\n",
       "    </tr>\n",
       "    <tr>\n",
       "      <th>2</th>\n",
       "      <td>3</td>\n",
       "      <td>5</td>\n",
       "      <td>2015-07-31</td>\n",
       "      <td>8314</td>\n",
       "      <td>821</td>\n",
       "      <td>1</td>\n",
       "      <td>1</td>\n",
       "      <td>1</td>\n",
       "      <td>0</td>\n",
       "      <td>0</td>\n",
       "      <td>0</td>\n",
       "    </tr>\n",
       "    <tr>\n",
       "      <th>3</th>\n",
       "      <td>4</td>\n",
       "      <td>5</td>\n",
       "      <td>2015-07-31</td>\n",
       "      <td>13995</td>\n",
       "      <td>1498</td>\n",
       "      <td>1</td>\n",
       "      <td>1</td>\n",
       "      <td>1</td>\n",
       "      <td>0</td>\n",
       "      <td>0</td>\n",
       "      <td>0</td>\n",
       "    </tr>\n",
       "    <tr>\n",
       "      <th>4</th>\n",
       "      <td>5</td>\n",
       "      <td>5</td>\n",
       "      <td>2015-07-31</td>\n",
       "      <td>4822</td>\n",
       "      <td>559</td>\n",
       "      <td>1</td>\n",
       "      <td>1</td>\n",
       "      <td>1</td>\n",
       "      <td>0</td>\n",
       "      <td>0</td>\n",
       "      <td>0</td>\n",
       "    </tr>\n",
       "  </tbody>\n",
       "</table>\n",
       "</div>"
      ],
      "text/plain": [
       "   Store  DayOfWeek       Date  Sales  Customers  Open  Promo  SchoolHoliday  \\\n",
       "0      1          5 2015-07-31   5263        555     1      1              1   \n",
       "1      2          5 2015-07-31   6064        625     1      1              1   \n",
       "2      3          5 2015-07-31   8314        821     1      1              1   \n",
       "3      4          5 2015-07-31  13995       1498     1      1              1   \n",
       "4      5          5 2015-07-31   4822        559     1      1              1   \n",
       "\n",
       "   PublicHoliday  Easter  Christmas  \n",
       "0              0       0          0  \n",
       "1              0       0          0  \n",
       "2              0       0          0  \n",
       "3              0       0          0  \n",
       "4              0       0          0  "
      ]
     },
     "execution_count": 27,
     "metadata": {},
     "output_type": "execute_result"
    }
   ],
   "source": [
    "for holiday, code in zip(['PublicHoliday', 'Easter', 'Christmas'], ['a', 'b', 'c']):\n",
    "    sales_df[holiday] = sales_df['StateHoliday'].apply(lambda x: 1 if x==code else 0)\n",
    "\n",
    "sales_df.drop('StateHoliday', axis=1, inplace=True)\n",
    "sales_df.head()"
   ]
  },
  {
   "cell_type": "markdown",
   "id": "7f8e4072-0fcf-4274-b43a-3706002c1c03",
   "metadata": {},
   "source": [
    "Wir speichern erstmal das Ergebnis als csv-Datei, denn wir werden es auch für die Modellierung nutzen."
   ]
  },
  {
   "cell_type": "code",
   "execution_count": 28,
   "id": "d7413b0f-1a95-46c0-a797-bb7f74c98c94",
   "metadata": {},
   "outputs": [],
   "source": [
    "sales_df.to_csv(\"sales_clean.csv\", index=False)"
   ]
  },
  {
   "cell_type": "markdown",
   "id": "3dfa0a5b-07a9-49ad-b9e5-0ba2ead41264",
   "metadata": {},
   "source": [
    "Bei 1115 Filialen und 942 Tagen, sollte es eine Gesamtzahl von 1115x942=1.050.330 Datenpunkte ergeben und wir haben nur 1.017.209 Zeilen in diesem Datansatz. Idealerweise sollten wir jeden Tag Informationen über alle 1115 Filialen haben, aber das ist nicht der Fall."
   ]
  },
  {
   "cell_type": "code",
   "execution_count": 29,
   "id": "d693dbca-b883-446b-8306-c9bacc2f7aad",
   "metadata": {},
   "outputs": [
    {
     "name": "stdout",
     "output_type": "stream",
     "text": [
      "Es gibt 1 Tag(e) mit 1114 Datenpunkten.\n",
      "Es gibt 757 Tag(e) mit 1115 Datenpunkten.\n",
      "Es gibt 184 Tag(e) mit 935 Datenpunkten.\n",
      "Und es gibt 942 Tage insgesamt.\n"
     ]
    }
   ],
   "source": [
    "# Create a time series for the number of observations per day\n",
    "obs_by_date = sales_df.groupby('Date').size()\n",
    "\n",
    "total_days = 0\n",
    "for obs in obs_by_date.unique():\n",
    "    obs_size = obs_by_date[obs_by_date == obs].size\n",
    "    total_days += obs_size\n",
    "    print(\"Es gibt {} Tag(e) mit {} Datenpunkten.\".format(obs_size, obs))\n",
    "\n",
    "print(\"Und es gibt {} Tage insgesamt.\".format(total_days))"
   ]
  },
  {
   "cell_type": "markdown",
   "id": "b9452d92-511c-47f2-9e7f-6488f7976864",
   "metadata": {},
   "source": [
    "Folgendes ist gut zu wissen:"
   ]
  },
  {
   "cell_type": "code",
   "execution_count": 30,
   "id": "abdbad00-1b45-4998-aedd-25b705a0407a",
   "metadata": {},
   "outputs": [
    {
     "name": "stdout",
     "output_type": "stream",
     "text": [
      "Anzahl der geschlossenen Läden, die einen Umsatz von mehr als Null hatten: 0\n"
     ]
    }
   ],
   "source": [
    "print(\"Anzahl der geschlossenen Läden, die einen Umsatz von mehr als Null hatten: {}\".format(len(sales_df[(sales_df['Sales'] > 0) & (sales_df['Open'] == 0)])))"
   ]
  },
  {
   "cell_type": "markdown",
   "id": "8e39ca4c-6f57-4616-8446-856242578839",
   "metadata": {},
   "source": [
    "#### Allgemeine Beobachtungen"
   ]
  },
  {
   "cell_type": "markdown",
   "id": "3a92ecac-525a-409d-bc42-cf9a7952c6d8",
   "metadata": {},
   "source": [
    "Aufgrund dieser Feststellung beschränke ich mich bei der Analyse auf die Punkte, an denen die betreffende Filiale geöffnet war. Werfen wir zuerst einen Blick auf die deskriptiven Statistiken:"
   ]
  },
  {
   "cell_type": "code",
   "execution_count": 31,
   "id": "c4466f57-204a-4061-b481-3aaac85a527d",
   "metadata": {},
   "outputs": [
    {
     "data": {
      "text/html": [
       "<div>\n",
       "<style scoped>\n",
       "    .dataframe tbody tr th:only-of-type {\n",
       "        vertical-align: middle;\n",
       "    }\n",
       "\n",
       "    .dataframe tbody tr th {\n",
       "        vertical-align: top;\n",
       "    }\n",
       "\n",
       "    .dataframe thead th {\n",
       "        text-align: right;\n",
       "    }\n",
       "</style>\n",
       "<table border=\"1\" class=\"dataframe\">\n",
       "  <thead>\n",
       "    <tr style=\"text-align: right;\">\n",
       "      <th></th>\n",
       "      <th>Store</th>\n",
       "      <th>DayOfWeek</th>\n",
       "      <th>Date</th>\n",
       "      <th>Sales</th>\n",
       "      <th>Customers</th>\n",
       "      <th>Open</th>\n",
       "      <th>Promo</th>\n",
       "      <th>SchoolHoliday</th>\n",
       "      <th>PublicHoliday</th>\n",
       "      <th>Easter</th>\n",
       "      <th>Christmas</th>\n",
       "    </tr>\n",
       "  </thead>\n",
       "  <tbody>\n",
       "    <tr>\n",
       "      <th>count</th>\n",
       "      <td>844392.00000</td>\n",
       "      <td>844392.00000</td>\n",
       "      <td>844392.00000</td>\n",
       "      <td>844392.00000</td>\n",
       "      <td>844392.00000</td>\n",
       "      <td>844392.00000</td>\n",
       "      <td>844392.00000</td>\n",
       "      <td>844392.00000</td>\n",
       "      <td>844392.00000</td>\n",
       "      <td>844392.00000</td>\n",
       "      <td>844392.00000</td>\n",
       "    </tr>\n",
       "    <tr>\n",
       "      <th>mean</th>\n",
       "      <td>558.42292</td>\n",
       "      <td>3.52036</td>\n",
       "      <td>.5f</td>\n",
       "      <td>6955.51429</td>\n",
       "      <td>762.72840</td>\n",
       "      <td>1.00000</td>\n",
       "      <td>0.44635</td>\n",
       "      <td>0.19358</td>\n",
       "      <td>0.00082</td>\n",
       "      <td>0.00017</td>\n",
       "      <td>0.00008</td>\n",
       "    </tr>\n",
       "    <tr>\n",
       "      <th>min</th>\n",
       "      <td>1.00000</td>\n",
       "      <td>1.00000</td>\n",
       "      <td>.5f</td>\n",
       "      <td>0.00000</td>\n",
       "      <td>0.00000</td>\n",
       "      <td>1.00000</td>\n",
       "      <td>0.00000</td>\n",
       "      <td>0.00000</td>\n",
       "      <td>0.00000</td>\n",
       "      <td>0.00000</td>\n",
       "      <td>0.00000</td>\n",
       "    </tr>\n",
       "    <tr>\n",
       "      <th>25%</th>\n",
       "      <td>280.00000</td>\n",
       "      <td>2.00000</td>\n",
       "      <td>.5f</td>\n",
       "      <td>4859.00000</td>\n",
       "      <td>519.00000</td>\n",
       "      <td>1.00000</td>\n",
       "      <td>0.00000</td>\n",
       "      <td>0.00000</td>\n",
       "      <td>0.00000</td>\n",
       "      <td>0.00000</td>\n",
       "      <td>0.00000</td>\n",
       "    </tr>\n",
       "    <tr>\n",
       "      <th>50%</th>\n",
       "      <td>558.00000</td>\n",
       "      <td>3.00000</td>\n",
       "      <td>.5f</td>\n",
       "      <td>6369.00000</td>\n",
       "      <td>676.00000</td>\n",
       "      <td>1.00000</td>\n",
       "      <td>0.00000</td>\n",
       "      <td>0.00000</td>\n",
       "      <td>0.00000</td>\n",
       "      <td>0.00000</td>\n",
       "      <td>0.00000</td>\n",
       "    </tr>\n",
       "    <tr>\n",
       "      <th>75%</th>\n",
       "      <td>837.00000</td>\n",
       "      <td>5.00000</td>\n",
       "      <td>.5f</td>\n",
       "      <td>8360.00000</td>\n",
       "      <td>893.00000</td>\n",
       "      <td>1.00000</td>\n",
       "      <td>1.00000</td>\n",
       "      <td>0.00000</td>\n",
       "      <td>0.00000</td>\n",
       "      <td>0.00000</td>\n",
       "      <td>0.00000</td>\n",
       "    </tr>\n",
       "    <tr>\n",
       "      <th>max</th>\n",
       "      <td>1115.00000</td>\n",
       "      <td>7.00000</td>\n",
       "      <td>.5f</td>\n",
       "      <td>41551.00000</td>\n",
       "      <td>7388.00000</td>\n",
       "      <td>1.00000</td>\n",
       "      <td>1.00000</td>\n",
       "      <td>1.00000</td>\n",
       "      <td>1.00000</td>\n",
       "      <td>1.00000</td>\n",
       "      <td>1.00000</td>\n",
       "    </tr>\n",
       "    <tr>\n",
       "      <th>std</th>\n",
       "      <td>321.73191</td>\n",
       "      <td>1.72369</td>\n",
       "      <td>nan</td>\n",
       "      <td>3104.21468</td>\n",
       "      <td>401.22767</td>\n",
       "      <td>0.00000</td>\n",
       "      <td>0.49711</td>\n",
       "      <td>0.39510</td>\n",
       "      <td>0.02866</td>\n",
       "      <td>0.01310</td>\n",
       "      <td>0.00917</td>\n",
       "    </tr>\n",
       "  </tbody>\n",
       "</table>\n",
       "</div>"
      ],
      "text/plain": [
       "              Store     DayOfWeek          Date         Sales     Customers  \\\n",
       "count  844392.00000  844392.00000  844392.00000  844392.00000  844392.00000   \n",
       "mean      558.42292       3.52036           .5f    6955.51429     762.72840   \n",
       "min         1.00000       1.00000           .5f       0.00000       0.00000   \n",
       "25%       280.00000       2.00000           .5f    4859.00000     519.00000   \n",
       "50%       558.00000       3.00000           .5f    6369.00000     676.00000   \n",
       "75%       837.00000       5.00000           .5f    8360.00000     893.00000   \n",
       "max      1115.00000       7.00000           .5f   41551.00000    7388.00000   \n",
       "std       321.73191       1.72369           nan    3104.21468     401.22767   \n",
       "\n",
       "               Open         Promo SchoolHoliday PublicHoliday        Easter  \\\n",
       "count  844392.00000  844392.00000  844392.00000  844392.00000  844392.00000   \n",
       "mean        1.00000       0.44635       0.19358       0.00082       0.00017   \n",
       "min         1.00000       0.00000       0.00000       0.00000       0.00000   \n",
       "25%         1.00000       0.00000       0.00000       0.00000       0.00000   \n",
       "50%         1.00000       0.00000       0.00000       0.00000       0.00000   \n",
       "75%         1.00000       1.00000       0.00000       0.00000       0.00000   \n",
       "max         1.00000       1.00000       1.00000       1.00000       1.00000   \n",
       "std         0.00000       0.49711       0.39510       0.02866       0.01310   \n",
       "\n",
       "          Christmas  \n",
       "count  844392.00000  \n",
       "mean        0.00008  \n",
       "min         0.00000  \n",
       "25%         0.00000  \n",
       "50%         0.00000  \n",
       "75%         0.00000  \n",
       "max         1.00000  \n",
       "std         0.00917  "
      ]
     },
     "execution_count": 31,
     "metadata": {},
     "output_type": "execute_result"
    }
   ],
   "source": [
    "sales_open_df = sales_df[sales_df['Open'] == 1]\n",
    "sales_open_df.describe().apply(lambda x: x.apply('{0:.5f}'.format))"
   ]
  },
  {
   "cell_type": "markdown",
   "id": "e3804666-f5bf-42c2-bceb-30fb3f7c777e",
   "metadata": {},
   "source": [
    "Wir können feststellen, dass es Datenpunkte mit einem sehr hohen Umsatzvolumen im Vergleich zu den meisten Tagen gibt."
   ]
  },
  {
   "cell_type": "code",
   "execution_count": 32,
   "id": "9e0506f0-1e24-4dae-b797-90b232d75a56",
   "metadata": {},
   "outputs": [
    {
     "data": {
      "text/plain": [
       "[Text(0.5, 1.0, 'Globale Verteilung der Umsätze')]"
      ]
     },
     "execution_count": 32,
     "metadata": {},
     "output_type": "execute_result"
    },
    {
     "data": {
      "image/png": "[encoded data removed]",
      "text/plain": [
       "<Figure size 640x480 with 1 Axes>"
      ]
     },
     "metadata": {},
     "output_type": "display_data"
    }
   ],
   "source": [
    "sns.histplot(sales_open_df['Sales'], kde=True).set(title=\"Globale Verteilung der Umsätze\")"
   ]
  },
  {
   "cell_type": "code",
   "execution_count": 33,
   "id": "47217b13-ed98-462c-9db5-75e9c541fc3d",
   "metadata": {},
   "outputs": [
    {
     "name": "stdout",
     "output_type": "stream",
     "text": [
      "Durchschnittlicher Umsatz: 6955.51 Euro\n",
      "Standard Abweichung (wie weit die einzelnen Punkte im Durchschnitt vom Mittelwert entfernt sind): 3104.21 Euro\n",
      "Anzahl der Datenpunkte, die Umsätze um mehr als drei Standardabweichungen über dem Durchschnitt aufweisen \n",
      "(>16268.16 Euro): 13437\n"
     ]
    }
   ],
   "source": [
    "sales_mean = sales_open_df['Sales'].mean()\n",
    "sales_std = sales_open_df['Sales'].std()\n",
    "high_sales = sales_mean + 3*sales_std\n",
    "sales_open_high_df = sales_open_df[sales_open_df['Sales'] > high_sales]\n",
    "\n",
    "print(\"Durchschnittlicher Umsatz: {:.2f} Euro\".format(sales_mean))\n",
    "print(\"Standard Abweichung (wie weit die einzelnen Punkte im Durchschnitt vom Mittelwert entfernt sind): {:.2f} Euro\".format(sales_std))\n",
    "print(\"Anzahl der Datenpunkte, die Umsätze um mehr als drei Standardabweichungen über dem Durchschnitt aufweisen \\n(>{:.2f} Euro): {}\"\n",
    "      .format(high_sales, len(sales_open_high_df)))"
   ]
  },
  {
   "cell_type": "markdown",
   "id": "4b5bdbd7-42be-4599-96c4-f2b19a4ce493",
   "metadata": {},
   "source": [
    "Wir können feststellen, dass es Filialen gibt, die (sehr) oft Umsätze weit über dem Durchschnitt erzielen. Dies legt nahe, dass die Spitzenwerte der Umsätze mit den allgemeinen Bedingungen der jeweiligen Filialen zu tun haben."
   ]
  },
  {
   "cell_type": "code",
   "execution_count": 34,
   "id": "7f469770-e228-491a-a332-36d7c47e2fe0",
   "metadata": {},
   "outputs": [
    {
     "data": {
      "text/html": [
       "<div>\n",
       "<style scoped>\n",
       "    .dataframe tbody tr th:only-of-type {\n",
       "        vertical-align: middle;\n",
       "    }\n",
       "\n",
       "    .dataframe tbody tr th {\n",
       "        vertical-align: top;\n",
       "    }\n",
       "\n",
       "    .dataframe thead th {\n",
       "        text-align: right;\n",
       "    }\n",
       "</style>\n",
       "<table border=\"1\" class=\"dataframe\">\n",
       "  <thead>\n",
       "    <tr style=\"text-align: right;\">\n",
       "      <th></th>\n",
       "      <th>NoDaysWithVeryHighSales</th>\n",
       "    </tr>\n",
       "    <tr>\n",
       "      <th>Store</th>\n",
       "      <th></th>\n",
       "    </tr>\n",
       "  </thead>\n",
       "  <tbody>\n",
       "    <tr>\n",
       "      <th>262</th>\n",
       "      <td>842</td>\n",
       "    </tr>\n",
       "    <tr>\n",
       "      <th>1114</th>\n",
       "      <td>734</td>\n",
       "    </tr>\n",
       "    <tr>\n",
       "      <th>562</th>\n",
       "      <td>684</td>\n",
       "    </tr>\n",
       "    <tr>\n",
       "      <th>817</th>\n",
       "      <td>667</td>\n",
       "    </tr>\n",
       "    <tr>\n",
       "      <th>251</th>\n",
       "      <td>614</td>\n",
       "    </tr>\n",
       "    <tr>\n",
       "      <th>513</th>\n",
       "      <td>544</td>\n",
       "    </tr>\n",
       "    <tr>\n",
       "      <th>788</th>\n",
       "      <td>512</td>\n",
       "    </tr>\n",
       "    <tr>\n",
       "      <th>383</th>\n",
       "      <td>488</td>\n",
       "    </tr>\n",
       "    <tr>\n",
       "      <th>842</th>\n",
       "      <td>449</td>\n",
       "    </tr>\n",
       "    <tr>\n",
       "      <th>756</th>\n",
       "      <td>397</td>\n",
       "    </tr>\n",
       "  </tbody>\n",
       "</table>\n",
       "</div>"
      ],
      "text/plain": [
       "       NoDaysWithVeryHighSales\n",
       "Store                         \n",
       "262                        842\n",
       "1114                       734\n",
       "562                        684\n",
       "817                        667\n",
       "251                        614\n",
       "513                        544\n",
       "788                        512\n",
       "383                        488\n",
       "842                        449\n",
       "756                        397"
      ]
     },
     "execution_count": 34,
     "metadata": {},
     "output_type": "execute_result"
    }
   ],
   "source": [
    "outlier_stores = pd.DataFrame(sales_open_high_df.groupby('Store').size().sort_values(ascending=False)\n",
    "                              .rename(\"NoDaysWithVeryHighSales\"))\n",
    "outlier_stores[:10]"
   ]
  },
  {
   "cell_type": "markdown",
   "id": "7c06bda3-1f0c-4f57-b878-9624af7493f2",
   "metadata": {},
   "source": [
    "##### Kunden und Umsätze"
   ]
  },
  {
   "cell_type": "code",
   "execution_count": 38,
   "id": "6a4786b3-7b28-4a33-bae5-8c36df74dc44",
   "metadata": {},
   "outputs": [
    {
     "data": {
      "text/plain": [
       "<Axes: xlabel='Customers', ylabel='Sales'>"
      ]
     },
     "execution_count": 38,
     "metadata": {},
     "output_type": "execute_result"
    },
    {
     "data": {
      "image/png": "[encoded data removed]",
      "text/plain": [
       "<Figure size 640x480 with 1 Axes>"
      ]
     },
     "metadata": {},
     "output_type": "display_data"
    }
   ],
   "source": [
    "sns.regplot(x='Customers', y='Sales', data=sales_open_df)"
   ]
  },
  {
   "cell_type": "markdown",
   "id": "2f95b762-5a01-4974-b1a4-69f90921e623",
   "metadata": {},
   "source": [
    "##### Zusammenhang zwischen den verschiedenen Arten von Feiertagen und den Umsätzen"
   ]
  },
  {
   "cell_type": "code",
   "execution_count": 35,
   "id": "32f39384-bcc2-40e5-aadb-6e2932f73cd2",
   "metadata": {},
   "outputs": [
    {
     "data": {
      "image/png": "[encoded data removed]",
      "text/plain": [
       "<Figure size 640x480 with 4 Axes>"
      ]
     },
     "metadata": {},
     "output_type": "display_data"
    }
   ],
   "source": [
    "fig, axes = plt.subplots(nrows = 2, ncols = 2)    \n",
    "axes = axes.flatten()\n",
    "cols = ['SchoolHoliday', 'PublicHoliday', 'Easter', 'Christmas']\n",
    "\n",
    "for ax, col in zip(axes, cols):\n",
    "    sns.violinplot(data=sales_open_df, x=col, y='Sales', ax=ax)\n",
    "    ax.set_title(\"Sales in Bezug auf {}\".format(col))\n",
    "\n",
    "fig.tight_layout()"
   ]
  },
  {
   "cell_type": "markdown",
   "id": "1e9e071e-db73-4749-8ba5-a7f0b3baa25e",
   "metadata": {},
   "source": [
    "Ob es Schulferien gibt oder nicht, hat anscheinend keinen großen Einfluss auf die globale Verteilung der Umsätze. Ich werde dies im Hinterkopf behalten wenn ich die Variablen für die Modelle auswähle. "
   ]
  },
  {
   "cell_type": "markdown",
   "id": "74f6f491-26a7-4183-a0ca-e0fe1d052ce2",
   "metadata": {},
   "source": [
    "#### Erstellung neuer Metriken"
   ]
  },
  {
   "cell_type": "markdown",
   "id": "b8ef2068-0478-41a2-b5df-ae145d357a0a",
   "metadata": {},
   "source": [
    "Wir werden die Daten von 942 aggregieren, um individuelle Leistungsberichte für jede der Filialen zu erstellen. Die Spalten `Date` und `DayOfWeek` werden wir für diese Anlyse nicht mehr brauchen."
   ]
  },
  {
   "cell_type": "code",
   "execution_count": 36,
   "id": "bcef8d76-9461-46f5-aba4-69bb0bfb0478",
   "metadata": {},
   "outputs": [],
   "source": [
    "sales_df.drop(['Date', 'DayOfWeek'], axis=1, inplace=True)"
   ]
  },
  {
   "cell_type": "markdown",
   "id": "fa7de279-1241-4f2c-abcc-3384449a910a",
   "metadata": {},
   "source": [
    "Und nun gruppieren wir die Daten auf `Store` Ebene"
   ]
  },
  {
   "cell_type": "code",
   "execution_count": 37,
   "id": "22c41007-444c-40d3-b21f-89d8d7a0239b",
   "metadata": {},
   "outputs": [
    {
     "data": {
      "text/html": [
       "<div>\n",
       "<style scoped>\n",
       "    .dataframe tbody tr th:only-of-type {\n",
       "        vertical-align: middle;\n",
       "    }\n",
       "\n",
       "    .dataframe tbody tr th {\n",
       "        vertical-align: top;\n",
       "    }\n",
       "\n",
       "    .dataframe thead th {\n",
       "        text-align: right;\n",
       "    }\n",
       "</style>\n",
       "<table border=\"1\" class=\"dataframe\">\n",
       "  <thead>\n",
       "    <tr style=\"text-align: right;\">\n",
       "      <th></th>\n",
       "      <th>Sales</th>\n",
       "      <th>Customers</th>\n",
       "      <th>Open</th>\n",
       "      <th>Promo</th>\n",
       "      <th>SchoolHoliday</th>\n",
       "      <th>PublicHoliday</th>\n",
       "      <th>Easter</th>\n",
       "      <th>Christmas</th>\n",
       "    </tr>\n",
       "    <tr>\n",
       "      <th>Store</th>\n",
       "      <th></th>\n",
       "      <th></th>\n",
       "      <th></th>\n",
       "      <th></th>\n",
       "      <th></th>\n",
       "      <th></th>\n",
       "      <th></th>\n",
       "      <th></th>\n",
       "    </tr>\n",
       "  </thead>\n",
       "  <tbody>\n",
       "    <tr>\n",
       "      <th>1</th>\n",
       "      <td>3716854</td>\n",
       "      <td>440523</td>\n",
       "      <td>781</td>\n",
       "      <td>360</td>\n",
       "      <td>193</td>\n",
       "      <td>17</td>\n",
       "      <td>6</td>\n",
       "      <td>4</td>\n",
       "    </tr>\n",
       "    <tr>\n",
       "      <th>2</th>\n",
       "      <td>3883858</td>\n",
       "      <td>457855</td>\n",
       "      <td>784</td>\n",
       "      <td>360</td>\n",
       "      <td>167</td>\n",
       "      <td>15</td>\n",
       "      <td>6</td>\n",
       "      <td>4</td>\n",
       "    </tr>\n",
       "    <tr>\n",
       "      <th>3</th>\n",
       "      <td>5408261</td>\n",
       "      <td>584310</td>\n",
       "      <td>779</td>\n",
       "      <td>360</td>\n",
       "      <td>170</td>\n",
       "      <td>19</td>\n",
       "      <td>6</td>\n",
       "      <td>4</td>\n",
       "    </tr>\n",
       "    <tr>\n",
       "      <th>4</th>\n",
       "      <td>7556507</td>\n",
       "      <td>1036254</td>\n",
       "      <td>784</td>\n",
       "      <td>360</td>\n",
       "      <td>173</td>\n",
       "      <td>14</td>\n",
       "      <td>6</td>\n",
       "      <td>4</td>\n",
       "    </tr>\n",
       "    <tr>\n",
       "      <th>5</th>\n",
       "      <td>3642818</td>\n",
       "      <td>418588</td>\n",
       "      <td>779</td>\n",
       "      <td>360</td>\n",
       "      <td>172</td>\n",
       "      <td>21</td>\n",
       "      <td>6</td>\n",
       "      <td>4</td>\n",
       "    </tr>\n",
       "  </tbody>\n",
       "</table>\n",
       "</div>"
      ],
      "text/plain": [
       "         Sales  Customers  Open  Promo  SchoolHoliday  PublicHoliday  Easter  \\\n",
       "Store                                                                          \n",
       "1      3716854     440523   781    360            193             17       6   \n",
       "2      3883858     457855   784    360            167             15       6   \n",
       "3      5408261     584310   779    360            170             19       6   \n",
       "4      7556507    1036254   784    360            173             14       6   \n",
       "5      3642818     418588   779    360            172             21       6   \n",
       "\n",
       "       Christmas  \n",
       "Store             \n",
       "1              4  \n",
       "2              4  \n",
       "3              4  \n",
       "4              4  \n",
       "5              4  "
      ]
     },
     "execution_count": 37,
     "metadata": {},
     "output_type": "execute_result"
    }
   ],
   "source": [
    "global_sales_df = sales_df.groupby('Store').sum()\n",
    "global_sales_df.head()"
   ]
  },
  {
   "cell_type": "code",
   "execution_count": 38,
   "id": "75cc4c23-1110-42b4-bf09-6840669b48b5",
   "metadata": {},
   "outputs": [
    {
     "data": {
      "text/html": [
       "<div>\n",
       "<style scoped>\n",
       "    .dataframe tbody tr th:only-of-type {\n",
       "        vertical-align: middle;\n",
       "    }\n",
       "\n",
       "    .dataframe tbody tr th {\n",
       "        vertical-align: top;\n",
       "    }\n",
       "\n",
       "    .dataframe thead th {\n",
       "        text-align: right;\n",
       "    }\n",
       "</style>\n",
       "<table border=\"1\" class=\"dataframe\">\n",
       "  <thead>\n",
       "    <tr style=\"text-align: right;\">\n",
       "      <th></th>\n",
       "      <th>Sales</th>\n",
       "      <th>Customers</th>\n",
       "      <th>Open</th>\n",
       "      <th>Promo</th>\n",
       "      <th>SchoolHoliday</th>\n",
       "      <th>PublicHoliday</th>\n",
       "      <th>Easter</th>\n",
       "      <th>Christmas</th>\n",
       "      <th>SalesPerDay</th>\n",
       "      <th>CustomersPerDay</th>\n",
       "      <th>SalesPerCustomer</th>\n",
       "    </tr>\n",
       "    <tr>\n",
       "      <th>Store</th>\n",
       "      <th></th>\n",
       "      <th></th>\n",
       "      <th></th>\n",
       "      <th></th>\n",
       "      <th></th>\n",
       "      <th></th>\n",
       "      <th></th>\n",
       "      <th></th>\n",
       "      <th></th>\n",
       "      <th></th>\n",
       "      <th></th>\n",
       "    </tr>\n",
       "  </thead>\n",
       "  <tbody>\n",
       "    <tr>\n",
       "      <th>1</th>\n",
       "      <td>3716854</td>\n",
       "      <td>440523</td>\n",
       "      <td>781</td>\n",
       "      <td>360</td>\n",
       "      <td>193</td>\n",
       "      <td>17</td>\n",
       "      <td>6</td>\n",
       "      <td>4</td>\n",
       "      <td>4759.096031</td>\n",
       "      <td>564.049936</td>\n",
       "      <td>8.437366</td>\n",
       "    </tr>\n",
       "    <tr>\n",
       "      <th>2</th>\n",
       "      <td>3883858</td>\n",
       "      <td>457855</td>\n",
       "      <td>784</td>\n",
       "      <td>360</td>\n",
       "      <td>167</td>\n",
       "      <td>15</td>\n",
       "      <td>6</td>\n",
       "      <td>4</td>\n",
       "      <td>4953.900510</td>\n",
       "      <td>583.998724</td>\n",
       "      <td>8.482725</td>\n",
       "    </tr>\n",
       "    <tr>\n",
       "      <th>3</th>\n",
       "      <td>5408261</td>\n",
       "      <td>584310</td>\n",
       "      <td>779</td>\n",
       "      <td>360</td>\n",
       "      <td>170</td>\n",
       "      <td>19</td>\n",
       "      <td>6</td>\n",
       "      <td>4</td>\n",
       "      <td>6942.568678</td>\n",
       "      <td>750.077022</td>\n",
       "      <td>9.255808</td>\n",
       "    </tr>\n",
       "    <tr>\n",
       "      <th>4</th>\n",
       "      <td>7556507</td>\n",
       "      <td>1036254</td>\n",
       "      <td>784</td>\n",
       "      <td>360</td>\n",
       "      <td>173</td>\n",
       "      <td>14</td>\n",
       "      <td>6</td>\n",
       "      <td>4</td>\n",
       "      <td>9638.401786</td>\n",
       "      <td>1321.752551</td>\n",
       "      <td>7.292138</td>\n",
       "    </tr>\n",
       "    <tr>\n",
       "      <th>5</th>\n",
       "      <td>3642818</td>\n",
       "      <td>418588</td>\n",
       "      <td>779</td>\n",
       "      <td>360</td>\n",
       "      <td>172</td>\n",
       "      <td>21</td>\n",
       "      <td>6</td>\n",
       "      <td>4</td>\n",
       "      <td>4676.274711</td>\n",
       "      <td>537.340180</td>\n",
       "      <td>8.702634</td>\n",
       "    </tr>\n",
       "  </tbody>\n",
       "</table>\n",
       "</div>"
      ],
      "text/plain": [
       "         Sales  Customers  Open  Promo  SchoolHoliday  PublicHoliday  Easter  \\\n",
       "Store                                                                          \n",
       "1      3716854     440523   781    360            193             17       6   \n",
       "2      3883858     457855   784    360            167             15       6   \n",
       "3      5408261     584310   779    360            170             19       6   \n",
       "4      7556507    1036254   784    360            173             14       6   \n",
       "5      3642818     418588   779    360            172             21       6   \n",
       "\n",
       "       Christmas  SalesPerDay  CustomersPerDay  SalesPerCustomer  \n",
       "Store                                                             \n",
       "1              4  4759.096031       564.049936          8.437366  \n",
       "2              4  4953.900510       583.998724          8.482725  \n",
       "3              4  6942.568678       750.077022          9.255808  \n",
       "4              4  9638.401786      1321.752551          7.292138  \n",
       "5              4  4676.274711       537.340180          8.702634  "
      ]
     },
     "execution_count": 38,
     "metadata": {},
     "output_type": "execute_result"
    }
   ],
   "source": [
    "global_sales_df['SalesPerDay'] = global_sales_df['Sales'] / global_sales_df['Open']\n",
    "global_sales_df['CustomersPerDay'] = global_sales_df['Customers'] / global_sales_df['Open']\n",
    "global_sales_df['SalesPerCustomer'] = global_sales_df['Sales'] / global_sales_df['Customers']\n",
    "\n",
    "global_sales_df.head()"
   ]
  },
  {
   "cell_type": "markdown",
   "id": "9100c39e-1c48-4836-950c-1900365bc21f",
   "metadata": {},
   "source": [
    "#### Verknüpfung mit den Daten der Filialen:"
   ]
  },
  {
   "cell_type": "code",
   "execution_count": 73,
   "id": "747d401b-03dc-4e4f-8f95-01f03de451c7",
   "metadata": {},
   "outputs": [
    {
     "data": {
      "text/html": [
       "<div>\n",
       "<style scoped>\n",
       "    .dataframe tbody tr th:only-of-type {\n",
       "        vertical-align: middle;\n",
       "    }\n",
       "\n",
       "    .dataframe tbody tr th {\n",
       "        vertical-align: top;\n",
       "    }\n",
       "\n",
       "    .dataframe thead th {\n",
       "        text-align: right;\n",
       "    }\n",
       "</style>\n",
       "<table border=\"1\" class=\"dataframe\">\n",
       "  <thead>\n",
       "    <tr style=\"text-align: right;\">\n",
       "      <th></th>\n",
       "      <th>Store</th>\n",
       "      <th>StoreType</th>\n",
       "      <th>Assortment</th>\n",
       "      <th>CompetitionDistance</th>\n",
       "      <th>Promo2</th>\n",
       "      <th>PromoInterval</th>\n",
       "      <th>CompetitionOpenSince</th>\n",
       "      <th>Promo2Since</th>\n",
       "      <th>Sales</th>\n",
       "      <th>Customers</th>\n",
       "      <th>Open</th>\n",
       "      <th>Promo</th>\n",
       "      <th>SchoolHoliday</th>\n",
       "      <th>PublicHoliday</th>\n",
       "      <th>Easter</th>\n",
       "      <th>Christmas</th>\n",
       "    </tr>\n",
       "  </thead>\n",
       "  <tbody>\n",
       "    <tr>\n",
       "      <th>0</th>\n",
       "      <td>1</td>\n",
       "      <td>c</td>\n",
       "      <td>a</td>\n",
       "      <td>1270.0</td>\n",
       "      <td>0</td>\n",
       "      <td>NaN</td>\n",
       "      <td>2008-09-01</td>\n",
       "      <td>NaN</td>\n",
       "      <td>3716854</td>\n",
       "      <td>440523</td>\n",
       "      <td>781</td>\n",
       "      <td>360</td>\n",
       "      <td>193</td>\n",
       "      <td>17</td>\n",
       "      <td>6</td>\n",
       "      <td>4</td>\n",
       "    </tr>\n",
       "    <tr>\n",
       "      <th>1</th>\n",
       "      <td>2</td>\n",
       "      <td>a</td>\n",
       "      <td>a</td>\n",
       "      <td>570.0</td>\n",
       "      <td>1</td>\n",
       "      <td>Jan,Apr,Jul,Oct</td>\n",
       "      <td>2007-11-01</td>\n",
       "      <td>2010-03-29</td>\n",
       "      <td>3883858</td>\n",
       "      <td>457855</td>\n",
       "      <td>784</td>\n",
       "      <td>360</td>\n",
       "      <td>167</td>\n",
       "      <td>15</td>\n",
       "      <td>6</td>\n",
       "      <td>4</td>\n",
       "    </tr>\n",
       "    <tr>\n",
       "      <th>2</th>\n",
       "      <td>3</td>\n",
       "      <td>a</td>\n",
       "      <td>a</td>\n",
       "      <td>14130.0</td>\n",
       "      <td>1</td>\n",
       "      <td>Jan,Apr,Jul,Oct</td>\n",
       "      <td>2006-12-01</td>\n",
       "      <td>2011-04-04</td>\n",
       "      <td>5408261</td>\n",
       "      <td>584310</td>\n",
       "      <td>779</td>\n",
       "      <td>360</td>\n",
       "      <td>170</td>\n",
       "      <td>19</td>\n",
       "      <td>6</td>\n",
       "      <td>4</td>\n",
       "    </tr>\n",
       "    <tr>\n",
       "      <th>3</th>\n",
       "      <td>4</td>\n",
       "      <td>c</td>\n",
       "      <td>c</td>\n",
       "      <td>620.0</td>\n",
       "      <td>0</td>\n",
       "      <td>NaN</td>\n",
       "      <td>2009-09-01</td>\n",
       "      <td>NaN</td>\n",
       "      <td>7556507</td>\n",
       "      <td>1036254</td>\n",
       "      <td>784</td>\n",
       "      <td>360</td>\n",
       "      <td>173</td>\n",
       "      <td>14</td>\n",
       "      <td>6</td>\n",
       "      <td>4</td>\n",
       "    </tr>\n",
       "    <tr>\n",
       "      <th>4</th>\n",
       "      <td>5</td>\n",
       "      <td>a</td>\n",
       "      <td>a</td>\n",
       "      <td>29910.0</td>\n",
       "      <td>0</td>\n",
       "      <td>NaN</td>\n",
       "      <td>2015-04-01</td>\n",
       "      <td>NaN</td>\n",
       "      <td>3642818</td>\n",
       "      <td>418588</td>\n",
       "      <td>779</td>\n",
       "      <td>360</td>\n",
       "      <td>172</td>\n",
       "      <td>21</td>\n",
       "      <td>6</td>\n",
       "      <td>4</td>\n",
       "    </tr>\n",
       "  </tbody>\n",
       "</table>\n",
       "</div>"
      ],
      "text/plain": [
       "   Store StoreType Assortment  CompetitionDistance  Promo2    PromoInterval  \\\n",
       "0      1         c          a               1270.0       0              NaN   \n",
       "1      2         a          a                570.0       1  Jan,Apr,Jul,Oct   \n",
       "2      3         a          a              14130.0       1  Jan,Apr,Jul,Oct   \n",
       "3      4         c          c                620.0       0              NaN   \n",
       "4      5         a          a              29910.0       0              NaN   \n",
       "\n",
       "  CompetitionOpenSince Promo2Since    Sales  Customers  Open  Promo  \\\n",
       "0           2008-09-01         NaN  3716854     440523   781    360   \n",
       "1           2007-11-01  2010-03-29  3883858     457855   784    360   \n",
       "2           2006-12-01  2011-04-04  5408261     584310   779    360   \n",
       "3           2009-09-01         NaN  7556507    1036254   784    360   \n",
       "4           2015-04-01         NaN  3642818     418588   779    360   \n",
       "\n",
       "   SchoolHoliday  PublicHoliday  Easter  Christmas  \n",
       "0            193             17       6          4  \n",
       "1            167             15       6          4  \n",
       "2            170             19       6          4  \n",
       "3            173             14       6          4  \n",
       "4            172             21       6          4  "
      ]
     },
     "execution_count": 73,
     "metadata": {},
     "output_type": "execute_result"
    }
   ],
   "source": [
    "stores_df = pd.read_csv(\"stores_clean.csv\")\n",
    "sales_stores_df = pd.merge(stores_df, global_sales_df, how = 'inner', on = 'Store')\n",
    "sales_stores_df.head()"
   ]
  },
  {
   "cell_type": "code",
   "execution_count": 74,
   "id": "fcf33c4f-7b83-41ee-a3f4-682a2f6965fe",
   "metadata": {},
   "outputs": [
    {
     "name": "stdout",
     "output_type": "stream",
     "text": [
      "<class 'pandas.core.frame.DataFrame'>\n",
      "RangeIndex: 1115 entries, 0 to 1114\n",
      "Data columns (total 16 columns):\n",
      " #   Column                Non-Null Count  Dtype  \n",
      "---  ------                --------------  -----  \n",
      " 0   Store                 1115 non-null   int64  \n",
      " 1   StoreType             1115 non-null   object \n",
      " 2   Assortment            1115 non-null   object \n",
      " 3   CompetitionDistance   1115 non-null   float64\n",
      " 4   Promo2                1115 non-null   int64  \n",
      " 5   PromoInterval         571 non-null    object \n",
      " 6   CompetitionOpenSince  1115 non-null   object \n",
      " 7   Promo2Since           571 non-null    object \n",
      " 8   Sales                 1115 non-null   int64  \n",
      " 9   Customers             1115 non-null   int64  \n",
      " 10  Open                  1115 non-null   int64  \n",
      " 11  Promo                 1115 non-null   int64  \n",
      " 12  SchoolHoliday         1115 non-null   int64  \n",
      " 13  PublicHoliday         1115 non-null   int64  \n",
      " 14  Easter                1115 non-null   int64  \n",
      " 15  Christmas             1115 non-null   int64  \n",
      "dtypes: float64(1), int64(10), object(5)\n",
      "memory usage: 139.5+ KB\n"
     ]
    }
   ],
   "source": [
    "sales_stores_df.info()"
   ]
  }
 ],
 "metadata": {
  "kernelspec": {
   "display_name": "Python 3 (ipykernel)",
   "language": "python",
   "name": "python3"
  },
  "language_info": {
   "codemirror_mode": {
    "name": "ipython",
    "version": 3
   },
   "file_extension": ".py",
   "mimetype": "text/x-python",
   "name": "python",
   "nbconvert_exporter": "python",
   "pygments_lexer": "ipython3",
   "version": "3.12.3"
  }
 },
 "nbformat": 4,
 "nbformat_minor": 5
}
